{
 "cells": [
  {
   "cell_type": "code",
   "execution_count": 1,
   "metadata": {
    "ExecuteTime": {
     "end_time": "2019-05-29T14:42:18.792617Z",
     "start_time": "2019-05-29T14:42:18.732778Z"
    },
    "scrolled": true
   },
   "outputs": [
    {
     "name": "stdout",
     "output_type": "stream",
     "text": [
      "/c/dev/workbench/notebook/Python/src/DeepLearning\n"
     ]
    }
   ],
   "source": [
    "%%bash\n",
    "pwd"
   ]
  },
  {
   "cell_type": "code",
   "execution_count": 2,
   "metadata": {
    "ExecuteTime": {
     "end_time": "2019-05-29T14:42:20.123060Z",
     "start_time": "2019-05-29T14:42:20.111122Z"
    }
   },
   "outputs": [
    {
     "data": {
      "text/plain": [
       "'C:\\\\dev\\\\workbench\\\\notebook\\\\Python\\\\src\\\\DeepLearning'"
      ]
     },
     "execution_count": 2,
     "metadata": {},
     "output_type": "execute_result"
    }
   ],
   "source": [
    "%pwd"
   ]
  },
  {
   "cell_type": "code",
   "execution_count": 3,
   "metadata": {
    "ExecuteTime": {
     "end_time": "2019-05-29T14:42:20.960826Z",
     "start_time": "2019-05-29T14:42:20.953873Z"
    },
    "scrolled": true
   },
   "outputs": [
    {
     "name": "stdout",
     "output_type": "stream",
     "text": [
      "C:\\dev\\workbench\\notebook\\Python\\src\\DeepLearning\n"
     ]
    }
   ],
   "source": [
    "path = %pwd\n",
    "print(path)"
   ]
  },
  {
   "cell_type": "code",
   "execution_count": 4,
   "metadata": {
    "ExecuteTime": {
     "end_time": "2019-05-29T14:42:21.571193Z",
     "start_time": "2019-05-29T14:42:21.563239Z"
    },
    "run_control": {
     "marked": false
    },
    "scrolled": true
   },
   "outputs": [
    {
     "data": {
      "text/plain": [
       "'C:\\\\dev\\\\workbench\\\\ve_jupyter_201906'"
      ]
     },
     "execution_count": 4,
     "metadata": {},
     "output_type": "execute_result"
    }
   ],
   "source": [
    "%env VIRTUAL_ENV"
   ]
  },
  {
   "cell_type": "code",
   "execution_count": 5,
   "metadata": {
    "ExecuteTime": {
     "end_time": "2019-05-29T14:42:22.645345Z",
     "start_time": "2019-05-29T14:42:22.569523Z"
    }
   },
   "outputs": [
    {
     "name": "stdout",
     "output_type": "stream",
     "text": [
      "/c/dev/workbench/ve_jupyter_201906/Scripts/python\n"
     ]
    }
   ],
   "source": [
    "!which python"
   ]
  },
  {
   "cell_type": "code",
   "execution_count": 6,
   "metadata": {
    "ExecuteTime": {
     "end_time": "2019-05-29T14:42:25.601415Z",
     "start_time": "2019-05-29T14:42:24.187229Z"
    },
    "run_control": {
     "marked": false
    },
    "scrolled": false
   },
   "outputs": [
    {
     "name": "stdout",
     "output_type": "stream",
     "text": [
      "Name: blpapi\n",
      "Version: 3.9.2\n",
      "Summary: Python SDK for Bloomberg BLPAPI (<=3.9)\n",
      "Home-page: http://www.bloomberglabs.com/api/\n",
      "Author: Bloomberg L.P.\n",
      "Author-email: open-tech@bloomberg.net\n",
      "License: UNKNOWN\n",
      "Location: c:\\dev\\workbench\\ve_jupyter_201906\\lib\\site-packages\n",
      "Requires: \n",
      "Required-by: \n"
     ]
    }
   ],
   "source": [
    "!pip show blpapi"
   ]
  },
  {
   "cell_type": "code",
   "execution_count": 7,
   "metadata": {
    "ExecuteTime": {
     "end_time": "2019-05-29T14:42:26.913933Z",
     "start_time": "2019-05-29T14:42:25.635327Z"
    },
    "scrolled": true
   },
   "outputs": [
    {
     "name": "stdout",
     "output_type": "stream",
     "text": [
      "Name: ipython\n",
      "Version: 7.5.0\n",
      "Summary: IPython: Productive Interactive Computing\n",
      "Home-page: https://ipython.org\n",
      "Author: The IPython Development Team\n",
      "Author-email: ipython-dev@python.org\n",
      "License: BSD\n",
      "Location: c:\\dev\\workbench\\ve_jupyter_201906\\lib\\site-packages\n",
      "Requires: prompt-toolkit, pickleshare, jedi, pygments, backcall, colorama, decorator, traitlets, setuptools\n",
      "Required-by: jupyter-latex-envs, jupyter-console, ipywidgets, ipykernel, cufflinks\n"
     ]
    }
   ],
   "source": [
    "!pip show ipython"
   ]
  },
  {
   "cell_type": "code",
   "execution_count": 8,
   "metadata": {
    "ExecuteTime": {
     "end_time": "2019-05-29T14:42:28.343087Z",
     "start_time": "2019-05-29T14:42:26.944823Z"
    },
    "lang": "en"
   },
   "outputs": [
    {
     "name": "stdout",
     "output_type": "stream",
     "text": [
      "Name: notebook\n",
      "Version: 5.7.8\n",
      "Summary: A web-based notebook environment for interactive computing\n",
      "Home-page: http://jupyter.org\n",
      "Author: Jupyter Development Team\n",
      "Author-email: jupyter@googlegroups.com\n",
      "License: BSD\n",
      "Location: c:\\dev\\workbench\\ve_jupyter_201906\\lib\\site-packages\n",
      "Requires: ipython-genutils, nbformat, Send2Trash, jinja2, jupyter-core, ipykernel, prometheus-client, traitlets, terminado, nbconvert, tornado, jupyter-client, pyzmq\n",
      "Required-by: widgetsnbextension, jupyterlab, jupyterlab-server, jupyter, jupyter-tensorboard, jupyter-nbextensions-configurator, jupyter-latex-envs, jupyter-contrib-nbextensions, jupyter-contrib-core\n"
     ]
    }
   ],
   "source": [
    "!pip show notebook"
   ]
  },
  {
   "cell_type": "code",
   "execution_count": 9,
   "metadata": {
    "ExecuteTime": {
     "end_time": "2019-05-29T14:42:29.580775Z",
     "start_time": "2019-05-29T14:42:28.374003Z"
    }
   },
   "outputs": [
    {
     "name": "stdout",
     "output_type": "stream",
     "text": [
      "Name: jupyter\n",
      "Version: 1.0.0\n",
      "Summary: Jupyter metapackage. Install all the Jupyter components in one go.\n",
      "Home-page: http://jupyter.org\n",
      "Author: Jupyter Development Team\n",
      "Author-email: jupyter@googlegroups.org\n",
      "License: BSD\n",
      "Location: c:\\dev\\workbench\\ve_jupyter_201906\\lib\\site-packages\n",
      "Requires: ipykernel, notebook, jupyter-console, qtconsole, ipywidgets, nbconvert\n",
      "Required-by: \n"
     ]
    }
   ],
   "source": [
    "!pip show jupyter"
   ]
  },
  {
   "cell_type": "code",
   "execution_count": 10,
   "metadata": {
    "ExecuteTime": {
     "end_time": "2019-05-29T14:42:30.807524Z",
     "start_time": "2019-05-29T14:42:29.612693Z"
    }
   },
   "outputs": [
    {
     "name": "stdout",
     "output_type": "stream",
     "text": [
      "Name: jupyterlab\n",
      "Version: 0.35.6\n",
      "Summary: The JupyterLab notebook server extension.\n",
      "Home-page: http://jupyter.org\n",
      "Author: Jupyter Development Team\n",
      "Author-email: jupyter@googlegroups.com\n",
      "License: BSD\n",
      "Location: c:\\dev\\workbench\\ve_jupyter_201906\\lib\\site-packages\n",
      "Requires: jupyterlab-server, notebook\n",
      "Required-by: \n"
     ]
    }
   ],
   "source": [
    "!pip show jupyterlab"
   ]
  },
  {
   "cell_type": "code",
   "execution_count": 11,
   "metadata": {
    "ExecuteTime": {
     "end_time": "2019-05-29T14:42:32.054195Z",
     "start_time": "2019-05-29T14:42:30.834425Z"
    }
   },
   "outputs": [
    {
     "name": "stdout",
     "output_type": "stream",
     "text": [
      "Name: seaborn\n",
      "Version: 0.9.0\n",
      "Summary: seaborn: statistical data visualization\n",
      "Home-page: https://seaborn.pydata.org\n",
      "Author: Michael Waskom\n",
      "Author-email: mwaskom@nyu.edu\n",
      "License: BSD (3-clause)\n",
      "Location: c:\\dev\\workbench\\ve_jupyter_201906\\lib\\site-packages\n",
      "Requires: numpy, scipy, matplotlib, pandas\n",
      "Required-by: \n"
     ]
    }
   ],
   "source": [
    "!pip show seaborn"
   ]
  },
  {
   "cell_type": "code",
   "execution_count": 12,
   "metadata": {
    "ExecuteTime": {
     "end_time": "2019-05-29T14:42:33.251996Z",
     "start_time": "2019-05-29T14:42:32.080096Z"
    }
   },
   "outputs": [
    {
     "name": "stdout",
     "output_type": "stream",
     "text": [
      "Name: Pillow\n",
      "Version: 6.0.0\n",
      "Summary: Python Imaging Library (Fork)\n",
      "Home-page: http://python-pillow.org\n",
      "Author: Alex Clark (Fork Author)\n",
      "Author-email: aclark@aclark.net\n",
      "License: UNKNOWN\n",
      "Location: c:\\dev\\workbench\\ve_jupyter_201906\\lib\\site-packages\n",
      "Requires: \n",
      "Required-by: \n"
     ]
    }
   ],
   "source": [
    "!pip show Pillow"
   ]
  },
  {
   "cell_type": "code",
   "execution_count": 13,
   "metadata": {
    "ExecuteTime": {
     "end_time": "2019-05-29T14:42:34.673197Z",
     "start_time": "2019-05-29T14:42:33.277926Z"
    },
    "scrolled": true
   },
   "outputs": [
    {
     "name": "stdout",
     "output_type": "stream",
     "text": [
      "seaborn==0.9.0\n",
      "  - matplotlib [required: >=1.4.3, installed: 3.1.0]\n",
      "    - cycler [required: >=0.10, installed: 0.10.0]\n",
      "      - six [required: Any, installed: 1.12.0]\n",
      "    - kiwisolver [required: >=1.0.1, installed: 1.1.0]\n",
      "      - setuptools [required: Any, installed: 41.0.1]\n",
      "    - numpy [required: >=1.11, installed: 1.16.3]\n",
      "    - pyparsing [required: >=2.0.1,!=2.1.6,!=2.1.2,!=2.0.4, installed: 2.4.0]\n",
      "    - python-dateutil [required: >=2.1, installed: 2.8.0]\n",
      "      - six [required: >=1.5, installed: 1.12.0]\n",
      "  - numpy [required: >=1.9.3, installed: 1.16.3]\n",
      "  - pandas [required: >=0.15.2, installed: 0.24.2]\n",
      "    - numpy [required: >=1.12.0, installed: 1.16.3]\n",
      "    - python-dateutil [required: >=2.5.0, installed: 2.8.0]\n",
      "      - six [required: >=1.5, installed: 1.12.0]\n",
      "    - pytz [required: >=2011k, installed: 2019.1]\n",
      "  - scipy [required: >=0.14.0, installed: 1.3.0]\n",
      "    - numpy [required: >=1.13.3, installed: 1.16.3]\n"
     ]
    }
   ],
   "source": [
    "!python -m pipdeptree -p seaborn"
   ]
  },
  {
   "cell_type": "code",
   "execution_count": 14,
   "metadata": {
    "ExecuteTime": {
     "end_time": "2019-05-29T14:42:35.989703Z",
     "start_time": "2019-05-29T14:42:34.700151Z"
    }
   },
   "outputs": [
    {
     "name": "stdout",
     "output_type": "stream",
     "text": [
      "Name: bokeh\n",
      "Version: 1.1.0\n",
      "Summary: Interactive plots and applications in the browser from Python\n",
      "Home-page: http://github.com/bokeh/bokeh\n",
      "Author: Anaconda\n",
      "Author-email: info@anaconda.com\n",
      "License: New BSD\n",
      "Location: c:\\dev\\workbench\\ve_jupyter_201906\\lib\\site-packages\n",
      "Requires: six, pillow, numpy, python-dateutil, PyYAML, Jinja2, packaging, tornado\n",
      "Required-by: \n"
     ]
    }
   ],
   "source": [
    "!pip show bokeh"
   ]
  },
  {
   "cell_type": "code",
   "execution_count": 15,
   "metadata": {
    "ExecuteTime": {
     "end_time": "2019-05-29T14:42:37.384946Z",
     "start_time": "2019-05-29T14:42:36.017603Z"
    }
   },
   "outputs": [
    {
     "name": "stdout",
     "output_type": "stream",
     "text": [
      "bokeh==1.1.0\n",
      "  - Jinja2 [required: >=2.7, installed: 2.10.1]\n",
      "    - MarkupSafe [required: >=0.23, installed: 1.1.1]\n",
      "  - numpy [required: >=1.7.1, installed: 1.16.3]\n",
      "  - packaging [required: >=16.8, installed: 19.0]\n",
      "    - pyparsing [required: >=2.0.2, installed: 2.4.0]\n",
      "    - six [required: Any, installed: 1.12.0]\n",
      "  - pillow [required: >=4.0, installed: 6.0.0]\n",
      "  - python-dateutil [required: >=2.1, installed: 2.8.0]\n",
      "    - six [required: >=1.5, installed: 1.12.0]\n",
      "  - PyYAML [required: >=3.10, installed: 5.1]\n",
      "  - six [required: >=1.5.2, installed: 1.12.0]\n",
      "  - tornado [required: >=4.3, installed: 6.0.2]\n"
     ]
    }
   ],
   "source": [
    "!python -m pipdeptree -p bokeh"
   ]
  },
  {
   "cell_type": "code",
   "execution_count": 16,
   "metadata": {
    "ExecuteTime": {
     "end_time": "2019-05-29T14:42:38.621640Z",
     "start_time": "2019-05-29T14:42:37.411893Z"
    }
   },
   "outputs": [
    {
     "name": "stdout",
     "output_type": "stream",
     "text": [
      "Name: holoviews\n",
      "Version: 1.12.3\n",
      "Summary: Stop plotting your data - annotate your data and let it visualize itself.\n",
      "Home-page: https://www.holoviews.org\n",
      "Author: Jean-Luc Stevens and Philipp Rudiger\n",
      "Author-email: holoviews@gmail.com\n",
      "License: BSD\n",
      "Location: c:\\dev\\workbench\\ve_jupyter_201906\\lib\\site-packages\n",
      "Requires: param, pyviz-comms, numpy\n",
      "Required-by: \n"
     ]
    }
   ],
   "source": [
    "!pip show holoviews"
   ]
  },
  {
   "cell_type": "code",
   "execution_count": 17,
   "metadata": {
    "ExecuteTime": {
     "end_time": "2019-05-29T14:42:39.999956Z",
     "start_time": "2019-05-29T14:42:38.647572Z"
    }
   },
   "outputs": [
    {
     "name": "stdout",
     "output_type": "stream",
     "text": [
      "holoviews==1.12.3\n",
      "  - numpy [required: >=1.0, installed: 1.16.3]\n",
      "  - param [required: >=1.8.0,<2.0, installed: 1.9.0]\n",
      "  - pyviz-comms [required: >=0.7.2, installed: 0.7.2]\n",
      "    - param [required: Any, installed: 1.9.0]\n"
     ]
    }
   ],
   "source": [
    "!python -m pipdeptree -p holoviews"
   ]
  },
  {
   "cell_type": "code",
   "execution_count": 18,
   "metadata": {
    "ExecuteTime": {
     "end_time": "2019-05-29T14:42:40.033863Z",
     "start_time": "2019-05-29T14:42:40.026882Z"
    }
   },
   "outputs": [
    {
     "name": "stdout",
     "output_type": "stream",
     "text": [
      "Wall time: 0 ns\n"
     ]
    }
   ],
   "source": [
    "%time x = map(lambda x: 2*x, range(1000))"
   ]
  },
  {
   "cell_type": "code",
   "execution_count": 19,
   "metadata": {
    "ExecuteTime": {
     "end_time": "2019-05-29T14:42:51.635888Z",
     "start_time": "2019-05-29T14:42:47.934778Z"
    }
   },
   "outputs": [
    {
     "name": "stdout",
     "output_type": "stream",
     "text": [
      "454 ns ± 14.5 ns per loop (mean ± std. dev. of 7 runs, 1000000 loops each)\n"
     ]
    }
   ],
   "source": [
    "%timeit x = map(lambda x: 2*x, range(1000))"
   ]
  },
  {
   "cell_type": "code",
   "execution_count": 20,
   "metadata": {
    "ExecuteTime": {
     "end_time": "2019-05-29T14:42:51.670760Z",
     "start_time": "2019-05-29T14:42:51.664798Z"
    }
   },
   "outputs": [
    {
     "name": "stdout",
     "output_type": "stream",
     "text": [
      "Wall time: 0 ns\n"
     ]
    }
   ],
   "source": [
    "%%time\n",
    "x=map(lambda x: 2*x, range(1000))\n",
    "y=map(lambda x: 2+x, range(1000))"
   ]
  },
  {
   "cell_type": "code",
   "execution_count": 21,
   "metadata": {
    "ExecuteTime": {
     "end_time": "2019-05-29T14:42:51.719658Z",
     "start_time": "2019-05-29T14:42:51.712653Z"
    },
    "scrolled": true
   },
   "outputs": [
    {
     "name": "stdout",
     "output_type": "stream",
     "text": [
      "NamespaceMagics\t get_ipython\t getsizeof\t json\t np\t path\t var_dic_list\t x\t y\t \n",
      "\n"
     ]
    }
   ],
   "source": [
    "%who"
   ]
  },
  {
   "cell_type": "code",
   "execution_count": 22,
   "metadata": {
    "ExecuteTime": {
     "end_time": "2019-05-29T14:42:51.764515Z",
     "start_time": "2019-05-29T14:42:51.757533Z"
    }
   },
   "outputs": [
    {
     "name": "stdout",
     "output_type": "stream",
     "text": [
      "Variable          Type                          Data/Info\n",
      "---------------------------------------------------------\n",
      "NamespaceMagics   MetaHasTraits                 <class 'IPython.core.magi<...>mespace.NamespaceMagics'>\n",
      "get_ipython       function                      <function get_ipython at 0x00000207579BAB70>\n",
      "getsizeof         builtin_function_or_method    <built-in function getsizeof>\n",
      "json              module                        <module 'json' from 'C:\\\\<...>\\lib\\\\json\\\\__init__.py'>\n",
      "np                module                        <module 'numpy' from 'c:\\<...>ges\\\\numpy\\\\__init__.py'>\n",
      "path              str                           C:\\dev\\workbench\\notebook\\Python\\src\\DeepLearning\n",
      "var_dic_list      function                      <function var_dic_list at 0x00000207699AD6A8>\n",
      "x                 map                           <map object at 0x000002075A75C2B0>\n",
      "y                 map                           <map object at 0x000002075A75C198>\n"
     ]
    }
   ],
   "source": [
    "%whos"
   ]
  },
  {
   "cell_type": "code",
   "execution_count": 23,
   "metadata": {
    "ExecuteTime": {
     "end_time": "2019-05-29T14:42:51.813383Z",
     "start_time": "2019-05-29T14:42:51.806401Z"
    }
   },
   "outputs": [
    {
     "name": "stdout",
     "output_type": "stream",
     "text": [
      "Variable   Type      Data/Info\n",
      "------------------------------\n",
      "json       module    <module 'json' from 'C:\\\\<...>\\lib\\\\json\\\\__init__.py'>\n",
      "np         module    <module 'numpy' from 'c:\\<...>ges\\\\numpy\\\\__init__.py'>\n"
     ]
    }
   ],
   "source": [
    "%whos module"
   ]
  },
  {
   "cell_type": "code",
   "execution_count": 24,
   "metadata": {
    "ExecuteTime": {
     "end_time": "2019-05-29T14:42:52.750909Z",
     "start_time": "2019-05-29T14:42:52.747942Z"
    },
    "run_control": {
     "marked": false
    }
   },
   "outputs": [],
   "source": [
    "# for MUFG\n",
    "#%env VS110COMNTOOLS\n",
    "# for Both\n",
    "#%env VS120COMNTOOLS  \n",
    "# for Both\n",
    "#%env VS140COMNTOOLS    "
   ]
  },
  {
   "cell_type": "code",
   "execution_count": 25,
   "metadata": {
    "ExecuteTime": {
     "end_time": "2019-05-29T14:43:06.253843Z",
     "start_time": "2019-05-29T14:43:06.245867Z"
    }
   },
   "outputs": [
    {
     "name": "stdout",
     "output_type": "stream",
     "text": [
      "2019/05/29 23:43:06 started\n",
      "C:\\Users\\ayumu\\Desktop\n",
      "C:\\dev\\Python\\Python36-64\n",
      "http://localhost:8888/notebooks\n",
      "2019/05/29 23:43:06 terminated\n"
     ]
    }
   ],
   "source": [
    "from os import getenv\n",
    "import datetime as dt\n",
    "\n",
    "print(dt.datetime.now().strftime('%Y/%m/%d %H:%M:%S'),'started')\n",
    "\n",
    "desktop_path = getenv(\"HOMEDRIVE\")+getenv(\"HOMEPATH\")+\"\\\\Desktop\"\n",
    "print(desktop_path)\n",
    "\n",
    "PH = getenv('PYTHON3_HOME')\n",
    "print(PH)\n",
    "\n",
    "url = getenv(\"\", \"http://localhost:8888/notebooks\")\n",
    "print(url)\n",
    "\n",
    "print(dt.datetime.now().strftime('%Y/%m/%d %H:%M:%S'), 'terminated')"
   ]
  },
  {
   "cell_type": "code",
   "execution_count": 29,
   "metadata": {
    "ExecuteTime": {
     "end_time": "2019-05-29T14:43:35.811849Z",
     "start_time": "2019-05-29T14:43:35.799859Z"
    }
   },
   "outputs": [
    {
     "data": {
      "text/plain": [
       "{'ACLOCAL_PATH': 'C:\\\\dev\\\\git\\\\mingw64\\\\share\\\\aclocal;C:\\\\dev\\\\git\\\\usr\\\\share\\\\aclocal',\n",
       " 'AIRFLOW_HOME': 'C:\\\\dev\\\\workbench\\\\airflow',\n",
       " 'ALLUSERSPROFILE': 'C:\\\\ProgramData',\n",
       " 'APPDATA': 'C:\\\\Users\\\\ayumu\\\\AppData\\\\Roaming',\n",
       " 'BLPAPI_ROOT': 'C:\\\\dev\\\\blpapi_cpp_3.13.1.1',\n",
       " 'CLASSPATH': 'C:\\\\dev\\\\Java',\n",
       " 'COMMONPROGRAMFILES': 'C:\\\\Program Files\\\\Common Files',\n",
       " 'COMPUTERNAME': 'CAMBRIA',\n",
       " 'COMSPEC': 'C:\\\\windows\\\\system32\\\\cmd.exe',\n",
       " 'CONFIG_SITE': 'C:/dev/git/mingw64/etc/config.site',\n",
       " 'COMMONPROGRAMFILES(X86)': 'C:\\\\Program Files (x86)\\\\Common Files',\n",
       " 'COMMONPROGRAMW6432': 'C:\\\\Program Files\\\\Common Files',\n",
       " 'DISPLAY': 'needs-to-be-defined',\n",
       " 'DRIVERDATA': 'C:\\\\Windows\\\\System32\\\\Drivers\\\\DriverData',\n",
       " 'EXEPATH': 'C:\\\\dev\\\\git',\n",
       " 'FPS_BROWSER_APP_PROFILE_STRING': 'Internet Explorer',\n",
       " 'FPS_BROWSER_USER_PROFILE_STRING': 'Default',\n",
       " 'HOME': 'C:\\\\Users\\\\ayumu',\n",
       " 'HOMEDRIVE': 'C:',\n",
       " 'HOMEPATH': '\\\\Users\\\\ayumu',\n",
       " 'HOSTNAME': 'Cambria',\n",
       " 'INFOPATH': 'C:\\\\dev\\\\git\\\\usr\\\\local\\\\info;C:\\\\dev\\\\git\\\\usr\\\\share\\\\info;C:\\\\dev\\\\git\\\\usr\\\\info;C:\\\\dev\\\\git\\\\share\\\\info',\n",
       " 'INTEL_DEV_REDIST': 'C:\\\\Program Files (x86)\\\\Common Files\\\\Intel\\\\Shared Libraries\\\\',\n",
       " 'JAVA_HOME': 'C:\\\\dev\\\\Java\\\\jdk1.8.0_202',\n",
       " 'LANG': 'en_US.UTF-8',\n",
       " 'LOCALAPPDATA': 'C:\\\\Users\\\\ayumu\\\\AppData\\\\Local',\n",
       " 'LOGONSERVER': '\\\\\\\\CAMBRIA',\n",
       " 'MANPATH': 'C:\\\\dev\\\\git\\\\mingw64\\\\local\\\\man;C:\\\\dev\\\\git\\\\mingw64\\\\share\\\\man;C:\\\\dev\\\\git\\\\usr\\\\local\\\\man;C:\\\\dev\\\\git\\\\usr\\\\share\\\\man;C:\\\\dev\\\\git\\\\usr\\\\man;C:\\\\dev\\\\git\\\\share\\\\man',\n",
       " 'MIC_LD_LIBRARY_PATH': 'C:\\\\Program Files (x86)\\\\Common Files\\\\Intel\\\\Shared Libraries\\\\compiler\\\\lib\\\\mic',\n",
       " 'MINGW_CHOST': 'x86_64-w64-mingw32',\n",
       " 'MINGW_PACKAGE_PREFIX': 'mingw-w64-x86_64',\n",
       " 'MINGW_PREFIX': 'C:/dev/git/mingw64',\n",
       " 'MSYSTEM': 'MINGW64',\n",
       " 'MSYSTEM_CARCH': 'x86_64',\n",
       " 'MSYSTEM_CHOST': 'x86_64-w64-mingw32',\n",
       " 'MSYSTEM_PREFIX': 'C:/dev/git/mingw64',\n",
       " 'NUMBER_OF_PROCESSORS': '8',\n",
       " 'OLDPWD': 'C:/dev/workbench',\n",
       " 'ORIGINAL_PATH': 'C:\\\\dev\\\\git\\\\mingw64\\\\bin;C:\\\\dev\\\\git\\\\usr\\\\bin;C:\\\\Users\\\\ayumu\\\\bin;C:\\\\Program Files (x86)\\\\Common Files\\\\Oracle\\\\Java\\\\javapath;C:\\\\Program Files (x86)\\\\Common Files\\\\Intel\\\\Shared Libraries\\\\redist\\\\intel64\\\\compiler;C:\\\\windows\\\\system32;C:\\\\windows;C:\\\\windows\\\\System32\\\\Wbem;C:\\\\windows\\\\System32\\\\WindowsPowerShell\\\\v1.0;C:\\\\windows\\\\System32\\\\OpenSSH;C:\\\\Program Files\\\\dotnet;C:\\\\Program Files\\\\Microsoft SQL Server\\\\130\\\\Tools\\\\Binn;C:\\\\dev\\\\git\\\\cmd;C:\\\\dev\\\\blpapi_cpp_3.13.1.1;C:\\\\blp\\\\DAPI;C:\\\\blp\\\\DAPI\\\\DDE;C:\\\\dev\\\\Python\\\\Python36-64\\\\Scripts;C:\\\\dev\\\\Python\\\\Python36-64;C:\\\\Users\\\\ayumu\\\\AppData\\\\Local\\\\Microsoft\\\\WindowsApps',\n",
       " 'ORIGINAL_TEMP': 'C:/Users/ayumu/AppData/Local/Temp',\n",
       " 'ORIGINAL_TMP': 'C:/Users/ayumu/AppData/Local/Temp',\n",
       " 'OS': 'Windows_NT',\n",
       " 'ONEDRIVE': 'C:\\\\Users\\\\ayumu\\\\OneDrive',\n",
       " 'ONEDRIVECONSUMER': 'C:\\\\Users\\\\ayumu\\\\OneDrive',\n",
       " 'PATH': '> _env_path_ike4.txt',\n",
       " 'PATHEXT': '.COM;.EXE;.BAT;.CMD;.VBS;.VBE;.JS;.JSE;.WSF;.WSH;.MSC',\n",
       " 'PKG_CONFIG_PATH': 'C:\\\\dev\\\\git\\\\mingw64\\\\lib\\\\pkgconfig;C:\\\\dev\\\\git\\\\mingw64\\\\share\\\\pkgconfig',\n",
       " 'PLINK_PROTOCOL': 'ssh',\n",
       " 'PROCESSOR_ARCHITECTURE': 'AMD64',\n",
       " 'PROCESSOR_IDENTIFIER': 'Intel64 Family 6 Model 142 Stepping 10, GenuineIntel',\n",
       " 'PROCESSOR_LEVEL': '6',\n",
       " 'PROCESSOR_REVISION': '8e0a',\n",
       " 'PROGRAMFILES': 'C:\\\\Program Files',\n",
       " 'PS1': '(ve_jupyter_201906) ',\n",
       " 'PSMODULEPATH': 'C:\\\\Program Files\\\\WindowsPowerShell\\\\Modules;C:\\\\windows\\\\system32\\\\WindowsPowerShell\\\\v1.0\\\\Modules',\n",
       " 'PUBLIC': 'C:\\\\Users\\\\Public',\n",
       " 'PWD': 'C:/dev/workbench/ve_jupyter_201906',\n",
       " 'PYTHON3_HOME': 'C:\\\\dev\\\\Python\\\\Python36-64',\n",
       " 'PROGRAMDATA': 'C:\\\\ProgramData',\n",
       " 'PROGRAMFILES(X86)': 'C:\\\\Program Files (x86)',\n",
       " 'PROGRAMW6432': 'C:\\\\Program Files',\n",
       " 'R_DOC_DIR': 'C:\\\\dev\\\\R\\\\R-3.5.2\\\\doc',\n",
       " 'R_HOME': 'C:\\\\dev\\\\R\\\\R-3.5.2',\n",
       " 'R_INCLUDE_DIR': 'C:\\\\dev\\\\R\\\\R-3.5.2\\\\include',\n",
       " 'R_SHARE_DIR': 'C:\\\\dev\\\\R\\\\R-3.5.2\\\\share',\n",
       " 'SESSIONNAME': 'Console',\n",
       " 'SHELL': 'C:\\\\dev\\\\git\\\\usr\\\\bin\\\\bash.exe',\n",
       " 'SHLVL': '2',\n",
       " 'SSH_ASKPASS': 'C:/dev/git/mingw64/libexec/git-core/git-gui--askpass',\n",
       " 'SYSTEMDRIVE': 'C:',\n",
       " 'SYSTEMROOT': 'C:\\\\windows',\n",
       " 'TEMP': 'C:\\\\Users\\\\ayumu\\\\AppData\\\\Local\\\\Temp',\n",
       " 'TERM': 'xterm-color',\n",
       " 'TMP': 'C:\\\\Users\\\\ayumu\\\\AppData\\\\Local\\\\Temp',\n",
       " 'TMPDIR': 'C:\\\\Users\\\\ayumu\\\\AppData\\\\Local\\\\Temp',\n",
       " 'USERDOMAIN': 'CAMBRIA',\n",
       " 'USERDOMAIN_ROAMINGPROFILE': 'CAMBRIA',\n",
       " 'USERNAME': 'ayumu',\n",
       " 'USERPROFILE': 'C:\\\\Users\\\\ayumu',\n",
       " 'VIRTUAL_ENV': 'C:\\\\dev\\\\workbench\\\\ve_jupyter_201906',\n",
       " 'VS140COMNTOOLS': 'C:\\\\Program Files (x86)\\\\Microsoft Visual Studio\\\\2017\\\\Community\\\\Common7\\\\Tools',\n",
       " 'WINDIR': 'C:\\\\windows',\n",
       " '_': '\\\\dev\\\\workbench\\\\ve_jupyter_201906/Scripts/jupyter',\n",
       " 'JPY_INTERRUPT_EVENT': '2252',\n",
       " 'IPY_INTERRUPT_EVENT': '2252',\n",
       " 'JPY_PARENT_PID': '2104',\n",
       " 'CLICOLOR': '1',\n",
       " 'PAGER': 'cat',\n",
       " 'GIT_PAGER': 'cat',\n",
       " 'MPLBACKEND': 'module://ipykernel.pylab.backend_inline',\n",
       " '>': '_env_ike4.txt'}"
      ]
     },
     "execution_count": 29,
     "metadata": {},
     "output_type": "execute_result"
    }
   ],
   "source": [
    "%env"
   ]
  },
  {
   "cell_type": "code",
   "execution_count": 30,
   "metadata": {
    "ExecuteTime": {
     "end_time": "2019-05-29T14:43:45.231635Z",
     "start_time": "2019-05-29T14:43:45.225681Z"
    },
    "scrolled": true
   },
   "outputs": [
    {
     "data": {
      "text/plain": [
       "'> _env_path_ike4.txt'"
      ]
     },
     "execution_count": 30,
     "metadata": {},
     "output_type": "execute_result"
    }
   ],
   "source": [
    "%env PATH"
   ]
  },
  {
   "cell_type": "code",
   "execution_count": 28,
   "metadata": {
    "ExecuteTime": {
     "end_time": "2019-05-29T14:43:12.413376Z",
     "start_time": "2019-05-29T14:43:12.407392Z"
    },
    "run_control": {
     "marked": false
    },
    "scrolled": true
   },
   "outputs": [
    {
     "data": {
      "text/plain": [
       "'C:\\\\dev\\\\Python\\\\Python36-64'"
      ]
     },
     "execution_count": 28,
     "metadata": {},
     "output_type": "execute_result"
    }
   ],
   "source": [
    "%env PYTHON3_HOME"
   ]
  },
  {
   "cell_type": "code",
   "execution_count": 29,
   "metadata": {
    "ExecuteTime": {
     "end_time": "2019-05-29T13:19:43.782714Z",
     "start_time": "2019-05-29T13:19:43.775738Z"
    }
   },
   "outputs": [
    {
     "data": {
      "text/plain": [
       "'C:\\\\dev\\\\R\\\\R-3.5.2'"
      ]
     },
     "execution_count": 29,
     "metadata": {},
     "output_type": "execute_result"
    }
   ],
   "source": [
    "%env R_HOME"
   ]
  },
  {
   "cell_type": "code",
   "execution_count": 30,
   "metadata": {
    "ExecuteTime": {
     "end_time": "2019-05-29T13:19:43.794685Z",
     "start_time": "2019-05-29T13:19:43.785710Z"
    },
    "scrolled": false
   },
   "outputs": [
    {
     "data": {
      "text/plain": [
       "'C:\\\\dev\\\\blpapi_cpp_3.13.1.1'"
      ]
     },
     "execution_count": 30,
     "metadata": {},
     "output_type": "execute_result"
    }
   ],
   "source": [
    "%env BLPAPI_ROOT"
   ]
  },
  {
   "cell_type": "code",
   "execution_count": 31,
   "metadata": {
    "ExecuteTime": {
     "end_time": "2019-05-29T13:19:43.805654Z",
     "start_time": "2019-05-29T13:19:43.797675Z"
    },
    "run_control": {
     "marked": false
    },
    "scrolled": true
   },
   "outputs": [
    {
     "data": {
      "text/plain": [
       "'C:\\\\dev\\\\Java\\\\jdk1.8.0_202'"
      ]
     },
     "execution_count": 31,
     "metadata": {},
     "output_type": "execute_result"
    }
   ],
   "source": [
    "%env JAVA_HOME"
   ]
  },
  {
   "cell_type": "code",
   "execution_count": 32,
   "metadata": {
    "ExecuteTime": {
     "end_time": "2019-05-29T13:19:45.225856Z",
     "start_time": "2019-05-29T13:19:43.808649Z"
    },
    "run_control": {
     "marked": false
    },
    "scrolled": true
   },
   "outputs": [
    {
     "name": "stdout",
     "output_type": "stream",
     "text": [
      "lxml==4.3.3\n",
      "numpy==1.16.3\n",
      "openpyxl==2.6.2\n",
      "  - et-xmlfile [required: Any, installed: 1.0.1]\n",
      "  - jdcal [required: Any, installed: 1.4.1]\n",
      "Pillow==6.0.0\n",
      "scikit-learn==0.21.2\n",
      "  - joblib [required: >=0.11, installed: 0.13.2]\n",
      "  - numpy [required: >=1.11.0, installed: 1.16.3]\n",
      "  - scipy [required: >=0.17.0, installed: 1.3.0]\n",
      "    - numpy [required: >=1.13.3, installed: 1.16.3]\n",
      "scipy==1.3.0\n",
      "  - numpy [required: >=1.13.3, installed: 1.16.3]\n"
     ]
    }
   ],
   "source": [
    "!python -m pipdeptree -p openpyxl,lxml,numpy,scipy,scikit-learn,Pillow"
   ]
  },
  {
   "cell_type": "code",
   "execution_count": 33,
   "metadata": {
    "ExecuteTime": {
     "end_time": "2019-05-29T13:19:46.520395Z",
     "start_time": "2019-05-29T13:19:45.227853Z"
    },
    "run_control": {
     "marked": false
    },
    "scrolled": true
   },
   "outputs": [
    {
     "name": "stdout",
     "output_type": "stream",
     "text": [
      "bokeh==1.1.0\n",
      "  - Jinja2 [required: >=2.7, installed: 2.10.1]\n",
      "    - MarkupSafe [required: >=0.23, installed: 1.1.1]\n",
      "  - numpy [required: >=1.7.1, installed: 1.16.3]\n",
      "  - packaging [required: >=16.8, installed: 19.0]\n",
      "    - pyparsing [required: >=2.0.2, installed: 2.4.0]\n",
      "    - six [required: Any, installed: 1.12.0]\n",
      "  - pillow [required: >=4.0, installed: 6.0.0]\n",
      "  - python-dateutil [required: >=2.1, installed: 2.8.0]\n",
      "    - six [required: >=1.5, installed: 1.12.0]\n",
      "  - PyYAML [required: >=3.10, installed: 5.1]\n",
      "  - six [required: >=1.5.2, installed: 1.12.0]\n",
      "  - tornado [required: >=4.3, installed: 6.0.2]\n",
      "holoviews==1.12.3\n",
      "  - numpy [required: >=1.0, installed: 1.16.3]\n",
      "  - param [required: >=1.8.0,<2.0, installed: 1.9.0]\n",
      "  - pyviz-comms [required: >=0.7.2, installed: 0.7.2]\n",
      "    - param [required: Any, installed: 1.9.0]\n",
      "matplotlib==3.1.0\n",
      "  - cycler [required: >=0.10, installed: 0.10.0]\n",
      "    - six [required: Any, installed: 1.12.0]\n",
      "  - kiwisolver [required: >=1.0.1, installed: 1.1.0]\n",
      "    - setuptools [required: Any, installed: 41.0.1]\n",
      "  - numpy [required: >=1.11, installed: 1.16.3]\n",
      "  - pyparsing [required: >=2.0.1,!=2.1.6,!=2.1.2,!=2.0.4, installed: 2.4.0]\n",
      "  - python-dateutil [required: >=2.1, installed: 2.8.0]\n",
      "    - six [required: >=1.5, installed: 1.12.0]\n",
      "pandas==0.24.2\n",
      "  - numpy [required: >=1.12.0, installed: 1.16.3]\n",
      "  - python-dateutil [required: >=2.5.0, installed: 2.8.0]\n",
      "    - six [required: >=1.5, installed: 1.12.0]\n",
      "  - pytz [required: >=2011k, installed: 2019.1]\n",
      "seaborn==0.9.0\n",
      "  - matplotlib [required: >=1.4.3, installed: 3.1.0]\n",
      "    - cycler [required: >=0.10, installed: 0.10.0]\n",
      "      - six [required: Any, installed: 1.12.0]\n",
      "    - kiwisolver [required: >=1.0.1, installed: 1.1.0]\n",
      "      - setuptools [required: Any, installed: 41.0.1]\n",
      "    - numpy [required: >=1.11, installed: 1.16.3]\n",
      "    - pyparsing [required: >=2.0.1,!=2.1.6,!=2.1.2,!=2.0.4, installed: 2.4.0]\n",
      "    - python-dateutil [required: >=2.1, installed: 2.8.0]\n",
      "      - six [required: >=1.5, installed: 1.12.0]\n",
      "  - numpy [required: >=1.9.3, installed: 1.16.3]\n",
      "  - pandas [required: >=0.15.2, installed: 0.24.2]\n",
      "    - numpy [required: >=1.12.0, installed: 1.16.3]\n",
      "    - python-dateutil [required: >=2.5.0, installed: 2.8.0]\n",
      "      - six [required: >=1.5, installed: 1.12.0]\n",
      "    - pytz [required: >=2011k, installed: 2019.1]\n",
      "  - scipy [required: >=0.14.0, installed: 1.3.0]\n",
      "    - numpy [required: >=1.13.3, installed: 1.16.3]\n"
     ]
    }
   ],
   "source": [
    "!python -m pipdeptree -p pandas,matplotlib,seaborn,holoviews,bokeh"
   ]
  },
  {
   "cell_type": "code",
   "execution_count": 34,
   "metadata": {
    "ExecuteTime": {
     "end_time": "2019-05-29T13:19:47.897712Z",
     "start_time": "2019-05-29T13:19:46.526379Z"
    },
    "run_control": {
     "marked": false
    }
   },
   "outputs": [
    {
     "name": "stdout",
     "output_type": "stream",
     "text": [
      "ipython==7.5.0\n",
      "  - backcall [required: Any, installed: 0.1.0]\n",
      "  - colorama [required: Any, installed: 0.4.1]\n",
      "  - decorator [required: Any, installed: 4.4.0]\n",
      "  - jedi [required: >=0.10, installed: 0.13.3]\n",
      "    - parso [required: >=0.3.0, installed: 0.4.0]\n",
      "  - pickleshare [required: Any, installed: 0.7.5]\n",
      "  - prompt-toolkit [required: >=2.0.0,<2.1.0, installed: 2.0.9]\n",
      "    - six [required: >=1.9.0, installed: 1.12.0]\n",
      "    - wcwidth [required: Any, installed: 0.1.7]\n",
      "  - pygments [required: Any, installed: 2.4.1]\n",
      "  - setuptools [required: >=18.5, installed: 41.0.1]\n",
      "  - traitlets [required: >=4.2, installed: 4.3.2]\n",
      "    - decorator [required: Any, installed: 4.4.0]\n",
      "    - ipython-genutils [required: Any, installed: 0.2.0]\n",
      "    - six [required: Any, installed: 1.12.0]\n",
      "jupyter==1.0.0\n",
      "  - ipykernel [required: Any, installed: 5.1.1]\n",
      "    - ipython [required: >=5.0.0, installed: 7.5.0]\n",
      "      - backcall [required: Any, installed: 0.1.0]\n",
      "      - colorama [required: Any, installed: 0.4.1]\n",
      "      - decorator [required: Any, installed: 4.4.0]\n",
      "      - jedi [required: >=0.10, installed: 0.13.3]\n",
      "        - parso [required: >=0.3.0, installed: 0.4.0]\n",
      "      - pickleshare [required: Any, installed: 0.7.5]\n",
      "      - prompt-toolkit [required: >=2.0.0,<2.1.0, installed: 2.0.9]\n",
      "        - six [required: >=1.9.0, installed: 1.12.0]\n",
      "        - wcwidth [required: Any, installed: 0.1.7]\n",
      "      - pygments [required: Any, installed: 2.4.1]\n",
      "      - setuptools [required: >=18.5, installed: 41.0.1]\n",
      "      - traitlets [required: >=4.2, installed: 4.3.2]\n",
      "        - decorator [required: Any, installed: 4.4.0]\n",
      "        - ipython-genutils [required: Any, installed: 0.2.0]\n",
      "        - six [required: Any, installed: 1.12.0]\n",
      "    - jupyter-client [required: Any, installed: 5.2.4]\n",
      "      - jupyter-core [required: Any, installed: 4.4.0]\n",
      "        - traitlets [required: Any, installed: 4.3.2]\n",
      "          - decorator [required: Any, installed: 4.4.0]\n",
      "          - ipython-genutils [required: Any, installed: 0.2.0]\n",
      "          - six [required: Any, installed: 1.12.0]\n",
      "      - python-dateutil [required: >=2.1, installed: 2.8.0]\n",
      "        - six [required: >=1.5, installed: 1.12.0]\n",
      "      - pyzmq [required: >=13, installed: 18.0.1]\n",
      "      - tornado [required: >=4.1, installed: 6.0.2]\n",
      "      - traitlets [required: Any, installed: 4.3.2]\n",
      "        - decorator [required: Any, installed: 4.4.0]\n",
      "        - ipython-genutils [required: Any, installed: 0.2.0]\n",
      "        - six [required: Any, installed: 1.12.0]\n",
      "    - tornado [required: >=4.2, installed: 6.0.2]\n",
      "    - traitlets [required: >=4.1.0, installed: 4.3.2]\n",
      "      - decorator [required: Any, installed: 4.4.0]\n",
      "      - ipython-genutils [required: Any, installed: 0.2.0]\n",
      "      - six [required: Any, installed: 1.12.0]\n",
      "  - ipywidgets [required: Any, installed: 7.4.2]\n",
      "    - ipykernel [required: >=4.5.1, installed: 5.1.1]\n",
      "      - ipython [required: >=5.0.0, installed: 7.5.0]\n",
      "        - backcall [required: Any, installed: 0.1.0]\n",
      "        - colorama [required: Any, installed: 0.4.1]\n",
      "        - decorator [required: Any, installed: 4.4.0]\n",
      "        - jedi [required: >=0.10, installed: 0.13.3]\n",
      "          - parso [required: >=0.3.0, installed: 0.4.0]\n",
      "        - pickleshare [required: Any, installed: 0.7.5]\n",
      "        - prompt-toolkit [required: >=2.0.0,<2.1.0, installed: 2.0.9]\n",
      "          - six [required: >=1.9.0, installed: 1.12.0]\n",
      "          - wcwidth [required: Any, installed: 0.1.7]\n",
      "        - pygments [required: Any, installed: 2.4.1]\n",
      "        - setuptools [required: >=18.5, installed: 41.0.1]\n",
      "        - traitlets [required: >=4.2, installed: 4.3.2]\n",
      "          - decorator [required: Any, installed: 4.4.0]\n",
      "          - ipython-genutils [required: Any, installed: 0.2.0]\n",
      "          - six [required: Any, installed: 1.12.0]\n",
      "      - jupyter-client [required: Any, installed: 5.2.4]\n",
      "        - jupyter-core [required: Any, installed: 4.4.0]\n",
      "          - traitlets [required: Any, installed: 4.3.2]\n",
      "            - decorator [required: Any, installed: 4.4.0]\n",
      "            - ipython-genutils [required: Any, installed: 0.2.0]\n",
      "            - six [required: Any, installed: 1.12.0]\n",
      "        - python-dateutil [required: >=2.1, installed: 2.8.0]\n",
      "          - six [required: >=1.5, installed: 1.12.0]\n",
      "        - pyzmq [required: >=13, installed: 18.0.1]\n",
      "        - tornado [required: >=4.1, installed: 6.0.2]\n",
      "        - traitlets [required: Any, installed: 4.3.2]\n",
      "          - decorator [required: Any, installed: 4.4.0]\n",
      "          - ipython-genutils [required: Any, installed: 0.2.0]\n",
      "          - six [required: Any, installed: 1.12.0]\n",
      "      - tornado [required: >=4.2, installed: 6.0.2]\n",
      "      - traitlets [required: >=4.1.0, installed: 4.3.2]\n",
      "        - decorator [required: Any, installed: 4.4.0]\n",
      "        - ipython-genutils [required: Any, installed: 0.2.0]\n",
      "        - six [required: Any, installed: 1.12.0]\n",
      "    - ipython [required: >=4.0.0, installed: 7.5.0]\n",
      "      - backcall [required: Any, installed: 0.1.0]\n",
      "      - colorama [required: Any, installed: 0.4.1]\n",
      "      - decorator [required: Any, installed: 4.4.0]\n",
      "      - jedi [required: >=0.10, installed: 0.13.3]\n",
      "        - parso [required: >=0.3.0, installed: 0.4.0]\n",
      "      - pickleshare [required: Any, installed: 0.7.5]\n",
      "      - prompt-toolkit [required: >=2.0.0,<2.1.0, installed: 2.0.9]\n",
      "        - six [required: >=1.9.0, installed: 1.12.0]\n",
      "        - wcwidth [required: Any, installed: 0.1.7]\n",
      "      - pygments [required: Any, installed: 2.4.1]\n",
      "      - setuptools [required: >=18.5, installed: 41.0.1]\n",
      "      - traitlets [required: >=4.2, installed: 4.3.2]\n",
      "        - decorator [required: Any, installed: 4.4.0]\n",
      "        - ipython-genutils [required: Any, installed: 0.2.0]\n",
      "        - six [required: Any, installed: 1.12.0]\n",
      "    - nbformat [required: >=4.2.0, installed: 4.4.0]\n",
      "      - ipython-genutils [required: Any, installed: 0.2.0]\n",
      "      - jsonschema [required: >=2.4,!=2.5.0, installed: 3.0.1]\n",
      "        - attrs [required: >=17.4.0, installed: 19.1.0]\n",
      "        - pyrsistent [required: >=0.14.0, installed: 0.15.2]\n",
      "          - six [required: Any, installed: 1.12.0]\n",
      "        - setuptools [required: Any, installed: 41.0.1]\n",
      "        - six [required: >=1.11.0, installed: 1.12.0]\n",
      "      - jupyter-core [required: Any, installed: 4.4.0]\n",
      "        - traitlets [required: Any, installed: 4.3.2]\n",
      "          - decorator [required: Any, installed: 4.4.0]\n",
      "          - ipython-genutils [required: Any, installed: 0.2.0]\n",
      "          - six [required: Any, installed: 1.12.0]\n",
      "      - traitlets [required: >=4.1, installed: 4.3.2]\n",
      "        - decorator [required: Any, installed: 4.4.0]\n",
      "        - ipython-genutils [required: Any, installed: 0.2.0]\n",
      "        - six [required: Any, installed: 1.12.0]\n",
      "    - traitlets [required: >=4.3.1, installed: 4.3.2]\n",
      "      - decorator [required: Any, installed: 4.4.0]\n",
      "      - ipython-genutils [required: Any, installed: 0.2.0]\n",
      "      - six [required: Any, installed: 1.12.0]\n",
      "    - widgetsnbextension [required: ~=3.4.0, installed: 3.4.2]\n",
      "      - notebook [required: >=4.4.1, installed: 5.7.8]\n",
      "        - ipykernel [required: Any, installed: 5.1.1]\n",
      "          - ipython [required: >=5.0.0, installed: 7.5.0]\n",
      "            - backcall [required: Any, installed: 0.1.0]\n",
      "            - colorama [required: Any, installed: 0.4.1]\n",
      "            - decorator [required: Any, installed: 4.4.0]\n",
      "            - jedi [required: >=0.10, installed: 0.13.3]\n",
      "              - parso [required: >=0.3.0, installed: 0.4.0]\n",
      "            - pickleshare [required: Any, installed: 0.7.5]\n",
      "            - prompt-toolkit [required: >=2.0.0,<2.1.0, installed: 2.0.9]\n",
      "              - six [required: >=1.9.0, installed: 1.12.0]\n",
      "              - wcwidth [required: Any, installed: 0.1.7]\n",
      "            - pygments [required: Any, installed: 2.4.1]\n",
      "            - setuptools [required: >=18.5, installed: 41.0.1]\n",
      "            - traitlets [required: >=4.2, installed: 4.3.2]\n",
      "              - decorator [required: Any, installed: 4.4.0]\n",
      "              - ipython-genutils [required: Any, installed: 0.2.0]\n",
      "              - six [required: Any, installed: 1.12.0]\n",
      "          - jupyter-client [required: Any, installed: 5.2.4]\n",
      "            - jupyter-core [required: Any, installed: 4.4.0]\n",
      "              - traitlets [required: Any, installed: 4.3.2]\n",
      "                - decorator [required: Any, installed: 4.4.0]\n",
      "                - ipython-genutils [required: Any, installed: 0.2.0]\n",
      "                - six [required: Any, installed: 1.12.0]\n",
      "            - python-dateutil [required: >=2.1, installed: 2.8.0]\n",
      "              - six [required: >=1.5, installed: 1.12.0]\n",
      "            - pyzmq [required: >=13, installed: 18.0.1]\n",
      "            - tornado [required: >=4.1, installed: 6.0.2]\n",
      "            - traitlets [required: Any, installed: 4.3.2]\n",
      "              - decorator [required: Any, installed: 4.4.0]\n",
      "              - ipython-genutils [required: Any, installed: 0.2.0]\n",
      "              - six [required: Any, installed: 1.12.0]\n",
      "          - tornado [required: >=4.2, installed: 6.0.2]\n",
      "          - traitlets [required: >=4.1.0, installed: 4.3.2]\n",
      "            - decorator [required: Any, installed: 4.4.0]\n",
      "            - ipython-genutils [required: Any, installed: 0.2.0]\n",
      "            - six [required: Any, installed: 1.12.0]\n",
      "        - ipython-genutils [required: Any, installed: 0.2.0]\n",
      "        - jinja2 [required: Any, installed: 2.10.1]\n",
      "          - MarkupSafe [required: >=0.23, installed: 1.1.1]\n",
      "        - jupyter-client [required: >=5.2.0, installed: 5.2.4]\n",
      "          - jupyter-core [required: Any, installed: 4.4.0]\n",
      "            - traitlets [required: Any, installed: 4.3.2]\n",
      "              - decorator [required: Any, installed: 4.4.0]\n",
      "              - ipython-genutils [required: Any, installed: 0.2.0]\n",
      "              - six [required: Any, installed: 1.12.0]\n",
      "          - python-dateutil [required: >=2.1, installed: 2.8.0]\n",
      "            - six [required: >=1.5, installed: 1.12.0]\n",
      "          - pyzmq [required: >=13, installed: 18.0.1]\n",
      "          - tornado [required: >=4.1, installed: 6.0.2]\n",
      "          - traitlets [required: Any, installed: 4.3.2]\n",
      "            - decorator [required: Any, installed: 4.4.0]\n",
      "            - ipython-genutils [required: Any, installed: 0.2.0]\n",
      "            - six [required: Any, installed: 1.12.0]\n",
      "        - jupyter-core [required: >=4.4.0, installed: 4.4.0]\n",
      "          - traitlets [required: Any, installed: 4.3.2]\n",
      "            - decorator [required: Any, installed: 4.4.0]\n",
      "            - ipython-genutils [required: Any, installed: 0.2.0]\n",
      "            - six [required: Any, installed: 1.12.0]\n",
      "        - nbconvert [required: Any, installed: 5.5.0]\n",
      "          - bleach [required: Any, installed: 3.1.0]\n",
      "            - six [required: >=1.9.0, installed: 1.12.0]\n",
      "            - webencodings [required: Any, installed: 0.5.1]\n",
      "          - defusedxml [required: Any, installed: 0.6.0]\n",
      "          - entrypoints [required: >=0.2.2, installed: 0.3]\n",
      "          - jinja2 [required: >=2.4, installed: 2.10.1]\n",
      "            - MarkupSafe [required: >=0.23, installed: 1.1.1]\n",
      "          - jupyter-core [required: Any, installed: 4.4.0]\n",
      "            - traitlets [required: Any, installed: 4.3.2]\n",
      "              - decorator [required: Any, installed: 4.4.0]\n",
      "              - ipython-genutils [required: Any, installed: 0.2.0]\n",
      "              - six [required: Any, installed: 1.12.0]\n",
      "          - mistune [required: >=0.8.1, installed: 0.8.4]\n",
      "          - nbformat [required: >=4.4, installed: 4.4.0]\n",
      "            - ipython-genutils [required: Any, installed: 0.2.0]\n",
      "            - jsonschema [required: >=2.4,!=2.5.0, installed: 3.0.1]\n",
      "              - attrs [required: >=17.4.0, installed: 19.1.0]\n",
      "              - pyrsistent [required: >=0.14.0, installed: 0.15.2]\n",
      "                - six [required: Any, installed: 1.12.0]\n",
      "              - setuptools [required: Any, installed: 41.0.1]\n",
      "              - six [required: >=1.11.0, installed: 1.12.0]\n",
      "            - jupyter-core [required: Any, installed: 4.4.0]\n",
      "              - traitlets [required: Any, installed: 4.3.2]\n",
      "                - decorator [required: Any, installed: 4.4.0]\n",
      "                - ipython-genutils [required: Any, installed: 0.2.0]\n",
      "                - six [required: Any, installed: 1.12.0]\n",
      "            - traitlets [required: >=4.1, installed: 4.3.2]\n",
      "              - decorator [required: Any, installed: 4.4.0]\n",
      "              - ipython-genutils [required: Any, installed: 0.2.0]\n",
      "              - six [required: Any, installed: 1.12.0]\n",
      "          - pandocfilters [required: >=1.4.1, installed: 1.4.2]\n",
      "          - pygments [required: Any, installed: 2.4.1]\n",
      "          - testpath [required: Any, installed: 0.4.2]\n",
      "          - traitlets [required: >=4.2, installed: 4.3.2]\n",
      "            - decorator [required: Any, installed: 4.4.0]\n",
      "            - ipython-genutils [required: Any, installed: 0.2.0]\n",
      "            - six [required: Any, installed: 1.12.0]\n",
      "        - nbformat [required: Any, installed: 4.4.0]\n",
      "          - ipython-genutils [required: Any, installed: 0.2.0]\n",
      "          - jsonschema [required: >=2.4,!=2.5.0, installed: 3.0.1]\n",
      "            - attrs [required: >=17.4.0, installed: 19.1.0]\n",
      "            - pyrsistent [required: >=0.14.0, installed: 0.15.2]\n",
      "              - six [required: Any, installed: 1.12.0]\n",
      "            - setuptools [required: Any, installed: 41.0.1]\n",
      "            - six [required: >=1.11.0, installed: 1.12.0]\n",
      "          - jupyter-core [required: Any, installed: 4.4.0]\n",
      "            - traitlets [required: Any, installed: 4.3.2]\n",
      "              - decorator [required: Any, installed: 4.4.0]\n",
      "              - ipython-genutils [required: Any, installed: 0.2.0]\n",
      "              - six [required: Any, installed: 1.12.0]\n",
      "          - traitlets [required: >=4.1, installed: 4.3.2]\n",
      "            - decorator [required: Any, installed: 4.4.0]\n",
      "            - ipython-genutils [required: Any, installed: 0.2.0]\n",
      "            - six [required: Any, installed: 1.12.0]\n",
      "        - prometheus-client [required: Any, installed: 0.6.0]\n",
      "        - pyzmq [required: >=17, installed: 18.0.1]\n",
      "        - Send2Trash [required: Any, installed: 1.5.0]\n",
      "        - terminado [required: >=0.8.1, installed: 0.8.2]\n",
      "          - pywinpty [required: >=0.5, installed: 0.5.5]\n",
      "          - tornado [required: >=4, installed: 6.0.2]\n",
      "        - tornado [required: >=4.1,<7, installed: 6.0.2]\n",
      "        - traitlets [required: >=4.2.1, installed: 4.3.2]\n",
      "          - decorator [required: Any, installed: 4.4.0]\n",
      "          - ipython-genutils [required: Any, installed: 0.2.0]\n",
      "          - six [required: Any, installed: 1.12.0]\n",
      "  - jupyter-console [required: Any, installed: 6.0.0]\n",
      "    - ipykernel [required: Any, installed: 5.1.1]\n",
      "      - ipython [required: >=5.0.0, installed: 7.5.0]\n",
      "        - backcall [required: Any, installed: 0.1.0]\n",
      "        - colorama [required: Any, installed: 0.4.1]\n",
      "        - decorator [required: Any, installed: 4.4.0]\n",
      "        - jedi [required: >=0.10, installed: 0.13.3]\n",
      "          - parso [required: >=0.3.0, installed: 0.4.0]\n",
      "        - pickleshare [required: Any, installed: 0.7.5]\n",
      "        - prompt-toolkit [required: >=2.0.0,<2.1.0, installed: 2.0.9]\n",
      "          - six [required: >=1.9.0, installed: 1.12.0]\n",
      "          - wcwidth [required: Any, installed: 0.1.7]\n",
      "        - pygments [required: Any, installed: 2.4.1]\n",
      "        - setuptools [required: >=18.5, installed: 41.0.1]\n",
      "        - traitlets [required: >=4.2, installed: 4.3.2]\n",
      "          - decorator [required: Any, installed: 4.4.0]\n",
      "          - ipython-genutils [required: Any, installed: 0.2.0]\n",
      "          - six [required: Any, installed: 1.12.0]\n",
      "      - jupyter-client [required: Any, installed: 5.2.4]\n",
      "        - jupyter-core [required: Any, installed: 4.4.0]\n",
      "          - traitlets [required: Any, installed: 4.3.2]\n",
      "            - decorator [required: Any, installed: 4.4.0]\n",
      "            - ipython-genutils [required: Any, installed: 0.2.0]\n",
      "            - six [required: Any, installed: 1.12.0]\n",
      "        - python-dateutil [required: >=2.1, installed: 2.8.0]\n",
      "          - six [required: >=1.5, installed: 1.12.0]\n",
      "        - pyzmq [required: >=13, installed: 18.0.1]\n",
      "        - tornado [required: >=4.1, installed: 6.0.2]\n",
      "        - traitlets [required: Any, installed: 4.3.2]\n",
      "          - decorator [required: Any, installed: 4.4.0]\n",
      "          - ipython-genutils [required: Any, installed: 0.2.0]\n",
      "          - six [required: Any, installed: 1.12.0]\n",
      "      - tornado [required: >=4.2, installed: 6.0.2]\n",
      "      - traitlets [required: >=4.1.0, installed: 4.3.2]\n",
      "        - decorator [required: Any, installed: 4.4.0]\n",
      "        - ipython-genutils [required: Any, installed: 0.2.0]\n",
      "        - six [required: Any, installed: 1.12.0]\n",
      "    - ipython [required: Any, installed: 7.5.0]\n",
      "      - backcall [required: Any, installed: 0.1.0]\n",
      "      - colorama [required: Any, installed: 0.4.1]\n",
      "      - decorator [required: Any, installed: 4.4.0]\n",
      "      - jedi [required: >=0.10, installed: 0.13.3]\n",
      "        - parso [required: >=0.3.0, installed: 0.4.0]\n",
      "      - pickleshare [required: Any, installed: 0.7.5]\n",
      "      - prompt-toolkit [required: >=2.0.0,<2.1.0, installed: 2.0.9]\n",
      "        - six [required: >=1.9.0, installed: 1.12.0]\n",
      "        - wcwidth [required: Any, installed: 0.1.7]\n",
      "      - pygments [required: Any, installed: 2.4.1]\n",
      "      - setuptools [required: >=18.5, installed: 41.0.1]\n",
      "      - traitlets [required: >=4.2, installed: 4.3.2]\n",
      "        - decorator [required: Any, installed: 4.4.0]\n",
      "        - ipython-genutils [required: Any, installed: 0.2.0]\n",
      "        - six [required: Any, installed: 1.12.0]\n",
      "    - jupyter-client [required: Any, installed: 5.2.4]\n",
      "      - jupyter-core [required: Any, installed: 4.4.0]\n",
      "        - traitlets [required: Any, installed: 4.3.2]\n",
      "          - decorator [required: Any, installed: 4.4.0]\n",
      "          - ipython-genutils [required: Any, installed: 0.2.0]\n",
      "          - six [required: Any, installed: 1.12.0]\n",
      "      - python-dateutil [required: >=2.1, installed: 2.8.0]\n",
      "        - six [required: >=1.5, installed: 1.12.0]\n",
      "      - pyzmq [required: >=13, installed: 18.0.1]\n",
      "      - tornado [required: >=4.1, installed: 6.0.2]\n",
      "      - traitlets [required: Any, installed: 4.3.2]\n",
      "        - decorator [required: Any, installed: 4.4.0]\n",
      "        - ipython-genutils [required: Any, installed: 0.2.0]\n",
      "        - six [required: Any, installed: 1.12.0]\n",
      "    - prompt-toolkit [required: >=2.0.0,<2.1.0, installed: 2.0.9]\n",
      "      - six [required: >=1.9.0, installed: 1.12.0]\n",
      "      - wcwidth [required: Any, installed: 0.1.7]\n",
      "    - pygments [required: Any, installed: 2.4.1]\n",
      "  - nbconvert [required: Any, installed: 5.5.0]\n",
      "    - bleach [required: Any, installed: 3.1.0]\n",
      "      - six [required: >=1.9.0, installed: 1.12.0]\n",
      "      - webencodings [required: Any, installed: 0.5.1]\n",
      "    - defusedxml [required: Any, installed: 0.6.0]\n",
      "    - entrypoints [required: >=0.2.2, installed: 0.3]\n",
      "    - jinja2 [required: >=2.4, installed: 2.10.1]\n",
      "      - MarkupSafe [required: >=0.23, installed: 1.1.1]\n",
      "    - jupyter-core [required: Any, installed: 4.4.0]\n",
      "      - traitlets [required: Any, installed: 4.3.2]\n",
      "        - decorator [required: Any, installed: 4.4.0]\n",
      "        - ipython-genutils [required: Any, installed: 0.2.0]\n",
      "        - six [required: Any, installed: 1.12.0]\n",
      "    - mistune [required: >=0.8.1, installed: 0.8.4]\n",
      "    - nbformat [required: >=4.4, installed: 4.4.0]\n",
      "      - ipython-genutils [required: Any, installed: 0.2.0]\n",
      "      - jsonschema [required: >=2.4,!=2.5.0, installed: 3.0.1]\n",
      "        - attrs [required: >=17.4.0, installed: 19.1.0]\n",
      "        - pyrsistent [required: >=0.14.0, installed: 0.15.2]\n",
      "          - six [required: Any, installed: 1.12.0]\n",
      "        - setuptools [required: Any, installed: 41.0.1]\n",
      "        - six [required: >=1.11.0, installed: 1.12.0]\n",
      "      - jupyter-core [required: Any, installed: 4.4.0]\n",
      "        - traitlets [required: Any, installed: 4.3.2]\n",
      "          - decorator [required: Any, installed: 4.4.0]\n",
      "          - ipython-genutils [required: Any, installed: 0.2.0]\n",
      "          - six [required: Any, installed: 1.12.0]\n",
      "      - traitlets [required: >=4.1, installed: 4.3.2]\n",
      "        - decorator [required: Any, installed: 4.4.0]\n",
      "        - ipython-genutils [required: Any, installed: 0.2.0]\n",
      "        - six [required: Any, installed: 1.12.0]\n",
      "    - pandocfilters [required: >=1.4.1, installed: 1.4.2]\n",
      "    - pygments [required: Any, installed: 2.4.1]\n",
      "    - testpath [required: Any, installed: 0.4.2]\n",
      "    - traitlets [required: >=4.2, installed: 4.3.2]\n",
      "      - decorator [required: Any, installed: 4.4.0]\n",
      "      - ipython-genutils [required: Any, installed: 0.2.0]\n",
      "      - six [required: Any, installed: 1.12.0]\n",
      "  - notebook [required: Any, installed: 5.7.8]\n",
      "    - ipykernel [required: Any, installed: 5.1.1]\n",
      "      - ipython [required: >=5.0.0, installed: 7.5.0]\n",
      "        - backcall [required: Any, installed: 0.1.0]\n",
      "        - colorama [required: Any, installed: 0.4.1]\n",
      "        - decorator [required: Any, installed: 4.4.0]\n",
      "        - jedi [required: >=0.10, installed: 0.13.3]\n",
      "          - parso [required: >=0.3.0, installed: 0.4.0]\n",
      "        - pickleshare [required: Any, installed: 0.7.5]\n",
      "        - prompt-toolkit [required: >=2.0.0,<2.1.0, installed: 2.0.9]\n",
      "          - six [required: >=1.9.0, installed: 1.12.0]\n",
      "          - wcwidth [required: Any, installed: 0.1.7]\n",
      "        - pygments [required: Any, installed: 2.4.1]\n",
      "        - setuptools [required: >=18.5, installed: 41.0.1]\n",
      "        - traitlets [required: >=4.2, installed: 4.3.2]\n",
      "          - decorator [required: Any, installed: 4.4.0]\n",
      "          - ipython-genutils [required: Any, installed: 0.2.0]\n",
      "          - six [required: Any, installed: 1.12.0]\n",
      "      - jupyter-client [required: Any, installed: 5.2.4]\n",
      "        - jupyter-core [required: Any, installed: 4.4.0]\n",
      "          - traitlets [required: Any, installed: 4.3.2]\n",
      "            - decorator [required: Any, installed: 4.4.0]\n",
      "            - ipython-genutils [required: Any, installed: 0.2.0]\n",
      "            - six [required: Any, installed: 1.12.0]\n",
      "        - python-dateutil [required: >=2.1, installed: 2.8.0]\n",
      "          - six [required: >=1.5, installed: 1.12.0]\n",
      "        - pyzmq [required: >=13, installed: 18.0.1]\n",
      "        - tornado [required: >=4.1, installed: 6.0.2]\n",
      "        - traitlets [required: Any, installed: 4.3.2]\n",
      "          - decorator [required: Any, installed: 4.4.0]\n",
      "          - ipython-genutils [required: Any, installed: 0.2.0]\n",
      "          - six [required: Any, installed: 1.12.0]\n",
      "      - tornado [required: >=4.2, installed: 6.0.2]\n",
      "      - traitlets [required: >=4.1.0, installed: 4.3.2]\n",
      "        - decorator [required: Any, installed: 4.4.0]\n",
      "        - ipython-genutils [required: Any, installed: 0.2.0]\n",
      "        - six [required: Any, installed: 1.12.0]\n",
      "    - ipython-genutils [required: Any, installed: 0.2.0]\n",
      "    - jinja2 [required: Any, installed: 2.10.1]\n",
      "      - MarkupSafe [required: >=0.23, installed: 1.1.1]\n",
      "    - jupyter-client [required: >=5.2.0, installed: 5.2.4]\n",
      "      - jupyter-core [required: Any, installed: 4.4.0]\n",
      "        - traitlets [required: Any, installed: 4.3.2]\n",
      "          - decorator [required: Any, installed: 4.4.0]\n",
      "          - ipython-genutils [required: Any, installed: 0.2.0]\n",
      "          - six [required: Any, installed: 1.12.0]\n",
      "      - python-dateutil [required: >=2.1, installed: 2.8.0]\n",
      "        - six [required: >=1.5, installed: 1.12.0]\n",
      "      - pyzmq [required: >=13, installed: 18.0.1]\n",
      "      - tornado [required: >=4.1, installed: 6.0.2]\n",
      "      - traitlets [required: Any, installed: 4.3.2]\n",
      "        - decorator [required: Any, installed: 4.4.0]\n",
      "        - ipython-genutils [required: Any, installed: 0.2.0]\n",
      "        - six [required: Any, installed: 1.12.0]\n",
      "    - jupyter-core [required: >=4.4.0, installed: 4.4.0]\n",
      "      - traitlets [required: Any, installed: 4.3.2]\n",
      "        - decorator [required: Any, installed: 4.4.0]\n",
      "        - ipython-genutils [required: Any, installed: 0.2.0]\n",
      "        - six [required: Any, installed: 1.12.0]\n",
      "    - nbconvert [required: Any, installed: 5.5.0]\n",
      "      - bleach [required: Any, installed: 3.1.0]\n",
      "        - six [required: >=1.9.0, installed: 1.12.0]\n",
      "        - webencodings [required: Any, installed: 0.5.1]\n",
      "      - defusedxml [required: Any, installed: 0.6.0]\n",
      "      - entrypoints [required: >=0.2.2, installed: 0.3]\n",
      "      - jinja2 [required: >=2.4, installed: 2.10.1]\n",
      "        - MarkupSafe [required: >=0.23, installed: 1.1.1]\n",
      "      - jupyter-core [required: Any, installed: 4.4.0]\n",
      "        - traitlets [required: Any, installed: 4.3.2]\n",
      "          - decorator [required: Any, installed: 4.4.0]\n",
      "          - ipython-genutils [required: Any, installed: 0.2.0]\n",
      "          - six [required: Any, installed: 1.12.0]\n",
      "      - mistune [required: >=0.8.1, installed: 0.8.4]\n",
      "      - nbformat [required: >=4.4, installed: 4.4.0]\n",
      "        - ipython-genutils [required: Any, installed: 0.2.0]\n",
      "        - jsonschema [required: >=2.4,!=2.5.0, installed: 3.0.1]\n",
      "          - attrs [required: >=17.4.0, installed: 19.1.0]\n",
      "          - pyrsistent [required: >=0.14.0, installed: 0.15.2]\n",
      "            - six [required: Any, installed: 1.12.0]\n",
      "          - setuptools [required: Any, installed: 41.0.1]\n",
      "          - six [required: >=1.11.0, installed: 1.12.0]\n",
      "        - jupyter-core [required: Any, installed: 4.4.0]\n",
      "          - traitlets [required: Any, installed: 4.3.2]\n",
      "            - decorator [required: Any, installed: 4.4.0]\n",
      "            - ipython-genutils [required: Any, installed: 0.2.0]\n",
      "            - six [required: Any, installed: 1.12.0]\n",
      "        - traitlets [required: >=4.1, installed: 4.3.2]\n",
      "          - decorator [required: Any, installed: 4.4.0]\n",
      "          - ipython-genutils [required: Any, installed: 0.2.0]\n",
      "          - six [required: Any, installed: 1.12.0]\n",
      "      - pandocfilters [required: >=1.4.1, installed: 1.4.2]\n",
      "      - pygments [required: Any, installed: 2.4.1]\n",
      "      - testpath [required: Any, installed: 0.4.2]\n",
      "      - traitlets [required: >=4.2, installed: 4.3.2]\n",
      "        - decorator [required: Any, installed: 4.4.0]\n",
      "        - ipython-genutils [required: Any, installed: 0.2.0]\n",
      "        - six [required: Any, installed: 1.12.0]\n",
      "    - nbformat [required: Any, installed: 4.4.0]\n",
      "      - ipython-genutils [required: Any, installed: 0.2.0]\n",
      "      - jsonschema [required: >=2.4,!=2.5.0, installed: 3.0.1]\n",
      "        - attrs [required: >=17.4.0, installed: 19.1.0]\n",
      "        - pyrsistent [required: >=0.14.0, installed: 0.15.2]\n",
      "          - six [required: Any, installed: 1.12.0]\n",
      "        - setuptools [required: Any, installed: 41.0.1]\n",
      "        - six [required: >=1.11.0, installed: 1.12.0]\n",
      "      - jupyter-core [required: Any, installed: 4.4.0]\n",
      "        - traitlets [required: Any, installed: 4.3.2]\n",
      "          - decorator [required: Any, installed: 4.4.0]\n",
      "          - ipython-genutils [required: Any, installed: 0.2.0]\n",
      "          - six [required: Any, installed: 1.12.0]\n",
      "      - traitlets [required: >=4.1, installed: 4.3.2]\n",
      "        - decorator [required: Any, installed: 4.4.0]\n",
      "        - ipython-genutils [required: Any, installed: 0.2.0]\n",
      "        - six [required: Any, installed: 1.12.0]\n",
      "    - prometheus-client [required: Any, installed: 0.6.0]\n",
      "    - pyzmq [required: >=17, installed: 18.0.1]\n",
      "    - Send2Trash [required: Any, installed: 1.5.0]\n",
      "    - terminado [required: >=0.8.1, installed: 0.8.2]\n",
      "      - pywinpty [required: >=0.5, installed: 0.5.5]\n",
      "      - tornado [required: >=4, installed: 6.0.2]\n",
      "    - tornado [required: >=4.1,<7, installed: 6.0.2]\n",
      "    - traitlets [required: >=4.2.1, installed: 4.3.2]\n",
      "      - decorator [required: Any, installed: 4.4.0]\n",
      "      - ipython-genutils [required: Any, installed: 0.2.0]\n",
      "      - six [required: Any, installed: 1.12.0]\n",
      "  - qtconsole [required: Any, installed: 4.5.0]\n",
      "    - ipykernel [required: >=4.1, installed: 5.1.1]\n",
      "      - ipython [required: >=5.0.0, installed: 7.5.0]\n",
      "        - backcall [required: Any, installed: 0.1.0]\n",
      "        - colorama [required: Any, installed: 0.4.1]\n",
      "        - decorator [required: Any, installed: 4.4.0]\n",
      "        - jedi [required: >=0.10, installed: 0.13.3]\n",
      "          - parso [required: >=0.3.0, installed: 0.4.0]\n",
      "        - pickleshare [required: Any, installed: 0.7.5]\n",
      "        - prompt-toolkit [required: >=2.0.0,<2.1.0, installed: 2.0.9]\n",
      "          - six [required: >=1.9.0, installed: 1.12.0]\n",
      "          - wcwidth [required: Any, installed: 0.1.7]\n",
      "        - pygments [required: Any, installed: 2.4.1]\n",
      "        - setuptools [required: >=18.5, installed: 41.0.1]\n",
      "        - traitlets [required: >=4.2, installed: 4.3.2]\n",
      "          - decorator [required: Any, installed: 4.4.0]\n",
      "          - ipython-genutils [required: Any, installed: 0.2.0]\n",
      "          - six [required: Any, installed: 1.12.0]\n",
      "      - jupyter-client [required: Any, installed: 5.2.4]\n",
      "        - jupyter-core [required: Any, installed: 4.4.0]\n",
      "          - traitlets [required: Any, installed: 4.3.2]\n",
      "            - decorator [required: Any, installed: 4.4.0]\n",
      "            - ipython-genutils [required: Any, installed: 0.2.0]\n",
      "            - six [required: Any, installed: 1.12.0]\n",
      "        - python-dateutil [required: >=2.1, installed: 2.8.0]\n",
      "          - six [required: >=1.5, installed: 1.12.0]\n",
      "        - pyzmq [required: >=13, installed: 18.0.1]\n",
      "        - tornado [required: >=4.1, installed: 6.0.2]\n",
      "        - traitlets [required: Any, installed: 4.3.2]\n",
      "          - decorator [required: Any, installed: 4.4.0]\n",
      "          - ipython-genutils [required: Any, installed: 0.2.0]\n",
      "          - six [required: Any, installed: 1.12.0]\n",
      "      - tornado [required: >=4.2, installed: 6.0.2]\n",
      "      - traitlets [required: >=4.1.0, installed: 4.3.2]\n",
      "        - decorator [required: Any, installed: 4.4.0]\n",
      "        - ipython-genutils [required: Any, installed: 0.2.0]\n",
      "        - six [required: Any, installed: 1.12.0]\n",
      "    - ipython-genutils [required: Any, installed: 0.2.0]\n",
      "    - jupyter-client [required: >=4.1, installed: 5.2.4]\n",
      "      - jupyter-core [required: Any, installed: 4.4.0]\n",
      "        - traitlets [required: Any, installed: 4.3.2]\n",
      "          - decorator [required: Any, installed: 4.4.0]\n",
      "          - ipython-genutils [required: Any, installed: 0.2.0]\n",
      "          - six [required: Any, installed: 1.12.0]\n",
      "      - python-dateutil [required: >=2.1, installed: 2.8.0]\n",
      "        - six [required: >=1.5, installed: 1.12.0]\n",
      "      - pyzmq [required: >=13, installed: 18.0.1]\n",
      "      - tornado [required: >=4.1, installed: 6.0.2]\n",
      "      - traitlets [required: Any, installed: 4.3.2]\n",
      "        - decorator [required: Any, installed: 4.4.0]\n",
      "        - ipython-genutils [required: Any, installed: 0.2.0]\n",
      "        - six [required: Any, installed: 1.12.0]\n",
      "    - jupyter-core [required: Any, installed: 4.4.0]\n",
      "      - traitlets [required: Any, installed: 4.3.2]\n",
      "        - decorator [required: Any, installed: 4.4.0]\n",
      "        - ipython-genutils [required: Any, installed: 0.2.0]\n",
      "        - six [required: Any, installed: 1.12.0]\n",
      "    - pygments [required: Any, installed: 2.4.1]\n",
      "    - traitlets [required: Any, installed: 4.3.2]\n",
      "      - decorator [required: Any, installed: 4.4.0]\n",
      "      - ipython-genutils [required: Any, installed: 0.2.0]\n",
      "      - six [required: Any, installed: 1.12.0]\n",
      "notebook==5.7.8\n",
      "  - ipykernel [required: Any, installed: 5.1.1]\n",
      "    - ipython [required: >=5.0.0, installed: 7.5.0]\n",
      "      - backcall [required: Any, installed: 0.1.0]\n",
      "      - colorama [required: Any, installed: 0.4.1]\n",
      "      - decorator [required: Any, installed: 4.4.0]\n",
      "      - jedi [required: >=0.10, installed: 0.13.3]\n",
      "        - parso [required: >=0.3.0, installed: 0.4.0]\n",
      "      - pickleshare [required: Any, installed: 0.7.5]\n",
      "      - prompt-toolkit [required: >=2.0.0,<2.1.0, installed: 2.0.9]\n",
      "        - six [required: >=1.9.0, installed: 1.12.0]\n",
      "        - wcwidth [required: Any, installed: 0.1.7]\n",
      "      - pygments [required: Any, installed: 2.4.1]\n",
      "      - setuptools [required: >=18.5, installed: 41.0.1]\n",
      "      - traitlets [required: >=4.2, installed: 4.3.2]\n",
      "        - decorator [required: Any, installed: 4.4.0]\n",
      "        - ipython-genutils [required: Any, installed: 0.2.0]\n",
      "        - six [required: Any, installed: 1.12.0]\n",
      "    - jupyter-client [required: Any, installed: 5.2.4]\n",
      "      - jupyter-core [required: Any, installed: 4.4.0]\n",
      "        - traitlets [required: Any, installed: 4.3.2]\n",
      "          - decorator [required: Any, installed: 4.4.0]\n",
      "          - ipython-genutils [required: Any, installed: 0.2.0]\n",
      "          - six [required: Any, installed: 1.12.0]\n",
      "      - python-dateutil [required: >=2.1, installed: 2.8.0]\n",
      "        - six [required: >=1.5, installed: 1.12.0]\n",
      "      - pyzmq [required: >=13, installed: 18.0.1]\n",
      "      - tornado [required: >=4.1, installed: 6.0.2]\n",
      "      - traitlets [required: Any, installed: 4.3.2]\n",
      "        - decorator [required: Any, installed: 4.4.0]\n",
      "        - ipython-genutils [required: Any, installed: 0.2.0]\n",
      "        - six [required: Any, installed: 1.12.0]\n",
      "    - tornado [required: >=4.2, installed: 6.0.2]\n",
      "    - traitlets [required: >=4.1.0, installed: 4.3.2]\n",
      "      - decorator [required: Any, installed: 4.4.0]\n",
      "      - ipython-genutils [required: Any, installed: 0.2.0]\n",
      "      - six [required: Any, installed: 1.12.0]\n",
      "  - ipython-genutils [required: Any, installed: 0.2.0]\n",
      "  - jinja2 [required: Any, installed: 2.10.1]\n",
      "    - MarkupSafe [required: >=0.23, installed: 1.1.1]\n",
      "  - jupyter-client [required: >=5.2.0, installed: 5.2.4]\n",
      "    - jupyter-core [required: Any, installed: 4.4.0]\n",
      "      - traitlets [required: Any, installed: 4.3.2]\n",
      "        - decorator [required: Any, installed: 4.4.0]\n",
      "        - ipython-genutils [required: Any, installed: 0.2.0]\n",
      "        - six [required: Any, installed: 1.12.0]\n",
      "    - python-dateutil [required: >=2.1, installed: 2.8.0]\n",
      "      - six [required: >=1.5, installed: 1.12.0]\n",
      "    - pyzmq [required: >=13, installed: 18.0.1]\n",
      "    - tornado [required: >=4.1, installed: 6.0.2]\n",
      "    - traitlets [required: Any, installed: 4.3.2]\n",
      "      - decorator [required: Any, installed: 4.4.0]\n",
      "      - ipython-genutils [required: Any, installed: 0.2.0]\n",
      "      - six [required: Any, installed: 1.12.0]\n",
      "  - jupyter-core [required: >=4.4.0, installed: 4.4.0]\n",
      "    - traitlets [required: Any, installed: 4.3.2]\n",
      "      - decorator [required: Any, installed: 4.4.0]\n",
      "      - ipython-genutils [required: Any, installed: 0.2.0]\n",
      "      - six [required: Any, installed: 1.12.0]\n",
      "  - nbconvert [required: Any, installed: 5.5.0]\n",
      "    - bleach [required: Any, installed: 3.1.0]\n",
      "      - six [required: >=1.9.0, installed: 1.12.0]\n",
      "      - webencodings [required: Any, installed: 0.5.1]\n",
      "    - defusedxml [required: Any, installed: 0.6.0]\n",
      "    - entrypoints [required: >=0.2.2, installed: 0.3]\n",
      "    - jinja2 [required: >=2.4, installed: 2.10.1]\n",
      "      - MarkupSafe [required: >=0.23, installed: 1.1.1]\n",
      "    - jupyter-core [required: Any, installed: 4.4.0]\n",
      "      - traitlets [required: Any, installed: 4.3.2]\n",
      "        - decorator [required: Any, installed: 4.4.0]\n",
      "        - ipython-genutils [required: Any, installed: 0.2.0]\n",
      "        - six [required: Any, installed: 1.12.0]\n",
      "    - mistune [required: >=0.8.1, installed: 0.8.4]\n",
      "    - nbformat [required: >=4.4, installed: 4.4.0]\n",
      "      - ipython-genutils [required: Any, installed: 0.2.0]\n",
      "      - jsonschema [required: >=2.4,!=2.5.0, installed: 3.0.1]\n",
      "        - attrs [required: >=17.4.0, installed: 19.1.0]\n",
      "        - pyrsistent [required: >=0.14.0, installed: 0.15.2]\n",
      "          - six [required: Any, installed: 1.12.0]\n",
      "        - setuptools [required: Any, installed: 41.0.1]\n",
      "        - six [required: >=1.11.0, installed: 1.12.0]\n",
      "      - jupyter-core [required: Any, installed: 4.4.0]\n",
      "        - traitlets [required: Any, installed: 4.3.2]\n",
      "          - decorator [required: Any, installed: 4.4.0]\n",
      "          - ipython-genutils [required: Any, installed: 0.2.0]\n",
      "          - six [required: Any, installed: 1.12.0]\n",
      "      - traitlets [required: >=4.1, installed: 4.3.2]\n",
      "        - decorator [required: Any, installed: 4.4.0]\n",
      "        - ipython-genutils [required: Any, installed: 0.2.0]\n",
      "        - six [required: Any, installed: 1.12.0]\n",
      "    - pandocfilters [required: >=1.4.1, installed: 1.4.2]\n",
      "    - pygments [required: Any, installed: 2.4.1]\n",
      "    - testpath [required: Any, installed: 0.4.2]\n",
      "    - traitlets [required: >=4.2, installed: 4.3.2]\n",
      "      - decorator [required: Any, installed: 4.4.0]\n",
      "      - ipython-genutils [required: Any, installed: 0.2.0]\n",
      "      - six [required: Any, installed: 1.12.0]\n",
      "  - nbformat [required: Any, installed: 4.4.0]\n",
      "    - ipython-genutils [required: Any, installed: 0.2.0]\n",
      "    - jsonschema [required: >=2.4,!=2.5.0, installed: 3.0.1]\n",
      "      - attrs [required: >=17.4.0, installed: 19.1.0]\n",
      "      - pyrsistent [required: >=0.14.0, installed: 0.15.2]\n",
      "        - six [required: Any, installed: 1.12.0]\n",
      "      - setuptools [required: Any, installed: 41.0.1]\n",
      "      - six [required: >=1.11.0, installed: 1.12.0]\n",
      "    - jupyter-core [required: Any, installed: 4.4.0]\n",
      "      - traitlets [required: Any, installed: 4.3.2]\n",
      "        - decorator [required: Any, installed: 4.4.0]\n",
      "        - ipython-genutils [required: Any, installed: 0.2.0]\n",
      "        - six [required: Any, installed: 1.12.0]\n",
      "    - traitlets [required: >=4.1, installed: 4.3.2]\n",
      "      - decorator [required: Any, installed: 4.4.0]\n",
      "      - ipython-genutils [required: Any, installed: 0.2.0]\n",
      "      - six [required: Any, installed: 1.12.0]\n",
      "  - prometheus-client [required: Any, installed: 0.6.0]\n",
      "  - pyzmq [required: >=17, installed: 18.0.1]\n",
      "  - Send2Trash [required: Any, installed: 1.5.0]\n",
      "  - terminado [required: >=0.8.1, installed: 0.8.2]\n",
      "    - pywinpty [required: >=0.5, installed: 0.5.5]\n",
      "    - tornado [required: >=4, installed: 6.0.2]\n",
      "  - tornado [required: >=4.1,<7, installed: 6.0.2]\n",
      "  - traitlets [required: >=4.2.1, installed: 4.3.2]\n",
      "    - decorator [required: Any, installed: 4.4.0]\n",
      "    - ipython-genutils [required: Any, installed: 0.2.0]\n",
      "    - six [required: Any, installed: 1.12.0]\n"
     ]
    }
   ],
   "source": [
    "#!python -m pipdeptree -p ipython[ALL]\n",
    "!python -m pipdeptree -p ipython,notebook,jupyter"
   ]
  },
  {
   "cell_type": "code",
   "execution_count": 35,
   "metadata": {
    "ExecuteTime": {
     "end_time": "2019-05-29T13:19:49.238150Z",
     "start_time": "2019-05-29T13:19:47.900704Z"
    },
    "run_control": {
     "marked": false
    },
    "scrolled": false
   },
   "outputs": [
    {
     "name": "stdout",
     "output_type": "stream",
     "text": [
      "tensorflow==1.13.1\n",
      "  - absl-py [required: >=0.1.6, installed: 0.7.1]\n",
      "    - six [required: Any, installed: 1.12.0]\n",
      "  - astor [required: >=0.6.0, installed: 0.8.0]\n",
      "  - gast [required: >=0.2.0, installed: 0.2.2]\n",
      "  - grpcio [required: >=1.8.6, installed: 1.21.1]\n",
      "    - six [required: >=1.5.2, installed: 1.12.0]\n",
      "  - keras-applications [required: >=1.0.6, installed: 1.0.7]\n",
      "    - h5py [required: Any, installed: 2.9.0]\n",
      "      - numpy [required: >=1.7, installed: 1.16.3]\n",
      "      - six [required: Any, installed: 1.12.0]\n",
      "    - numpy [required: >=1.9.1, installed: 1.16.3]\n",
      "  - keras-preprocessing [required: >=1.0.5, installed: 1.0.9]\n",
      "    - numpy [required: >=1.9.1, installed: 1.16.3]\n",
      "    - six [required: >=1.9.0, installed: 1.12.0]\n",
      "  - numpy [required: >=1.13.3, installed: 1.16.3]\n",
      "  - protobuf [required: >=3.6.1, installed: 3.7.1]\n",
      "    - setuptools [required: Any, installed: 41.0.1]\n",
      "    - six [required: >=1.9, installed: 1.12.0]\n",
      "  - six [required: >=1.10.0, installed: 1.12.0]\n",
      "  - tensorboard [required: >=1.13.0,<1.14.0, installed: 1.13.1]\n",
      "    - absl-py [required: >=0.4, installed: 0.7.1]\n",
      "      - six [required: Any, installed: 1.12.0]\n",
      "    - grpcio [required: >=1.6.3, installed: 1.21.1]\n",
      "      - six [required: >=1.5.2, installed: 1.12.0]\n",
      "    - markdown [required: >=2.6.8, installed: 3.1.1]\n",
      "      - setuptools [required: >=36, installed: 41.0.1]\n",
      "    - numpy [required: >=1.12.0, installed: 1.16.3]\n",
      "    - protobuf [required: >=3.6.0, installed: 3.7.1]\n",
      "      - setuptools [required: Any, installed: 41.0.1]\n",
      "      - six [required: >=1.9, installed: 1.12.0]\n",
      "    - six [required: >=1.10.0, installed: 1.12.0]\n",
      "    - werkzeug [required: >=0.11.15, installed: 0.15.4]\n",
      "    - wheel [required: >=0.26, installed: 0.33.4]\n",
      "  - tensorflow-estimator [required: >=1.13.0,<1.14.0rc0, installed: 1.13.0]\n",
      "    - absl-py [required: >=0.1.6, installed: 0.7.1]\n",
      "      - six [required: Any, installed: 1.12.0]\n",
      "    - mock [required: >=2.0.0, installed: 3.0.5]\n",
      "      - six [required: Any, installed: 1.12.0]\n",
      "    - numpy [required: >=1.13.3, installed: 1.16.3]\n",
      "    - six [required: >=1.10.0, installed: 1.12.0]\n",
      "  - termcolor [required: >=1.1.0, installed: 1.1.0]\n",
      "  - wheel [required: >=0.26, installed: 0.33.4]\n"
     ]
    }
   ],
   "source": [
    "!python -m pipdeptree -p tensorflow"
   ]
  },
  {
   "cell_type": "code",
   "execution_count": 36,
   "metadata": {
    "ExecuteTime": {
     "end_time": "2019-05-29T13:19:50.698226Z",
     "start_time": "2019-05-29T13:19:49.241121Z"
    },
    "run_control": {
     "marked": false
    },
    "scrolled": false
   },
   "outputs": [
    {
     "name": "stdout",
     "output_type": "stream",
     "text": [
      "tensorboard==1.13.1\n",
      "  - absl-py [required: >=0.4, installed: 0.7.1]\n",
      "    - six [required: Any, installed: 1.12.0]\n",
      "  - grpcio [required: >=1.6.3, installed: 1.21.1]\n",
      "    - six [required: >=1.5.2, installed: 1.12.0]\n",
      "  - markdown [required: >=2.6.8, installed: 3.1.1]\n",
      "    - setuptools [required: >=36, installed: 41.0.1]\n",
      "  - numpy [required: >=1.12.0, installed: 1.16.3]\n",
      "  - protobuf [required: >=3.6.0, installed: 3.7.1]\n",
      "    - setuptools [required: Any, installed: 41.0.1]\n",
      "    - six [required: >=1.9, installed: 1.12.0]\n",
      "  - six [required: >=1.10.0, installed: 1.12.0]\n",
      "  - werkzeug [required: >=0.11.15, installed: 0.15.4]\n",
      "  - wheel [required: >=0.26, installed: 0.33.4]\n"
     ]
    }
   ],
   "source": [
    "!python -m pipdeptree -p tensorboard"
   ]
  },
  {
   "cell_type": "code",
   "execution_count": 37,
   "metadata": {
    "ExecuteTime": {
     "end_time": "2019-05-29T13:19:52.066567Z",
     "start_time": "2019-05-29T13:19:50.699225Z"
    },
    "run_control": {
     "marked": false
    },
    "scrolled": false
   },
   "outputs": [
    {
     "name": "stdout",
     "output_type": "stream",
     "text": [
      "Keras==2.2.4\n",
      "  - h5py [required: Any, installed: 2.9.0]\n",
      "    - numpy [required: >=1.7, installed: 1.16.3]\n",
      "    - six [required: Any, installed: 1.12.0]\n",
      "  - keras-applications [required: >=1.0.6, installed: 1.0.7]\n",
      "    - h5py [required: Any, installed: 2.9.0]\n",
      "      - numpy [required: >=1.7, installed: 1.16.3]\n",
      "      - six [required: Any, installed: 1.12.0]\n",
      "    - numpy [required: >=1.9.1, installed: 1.16.3]\n",
      "  - keras-preprocessing [required: >=1.0.5, installed: 1.0.9]\n",
      "    - numpy [required: >=1.9.1, installed: 1.16.3]\n",
      "    - six [required: >=1.9.0, installed: 1.12.0]\n",
      "  - numpy [required: >=1.9.1, installed: 1.16.3]\n",
      "  - pyyaml [required: Any, installed: 5.1]\n",
      "  - scipy [required: >=0.14, installed: 1.3.0]\n",
      "    - numpy [required: >=1.13.3, installed: 1.16.3]\n",
      "  - six [required: >=1.9.0, installed: 1.12.0]\n"
     ]
    }
   ],
   "source": [
    "!python -m pipdeptree -p keras"
   ]
  },
  {
   "cell_type": "code",
   "execution_count": 38,
   "metadata": {
    "ExecuteTime": {
     "end_time": "2019-05-29T13:19:54.669608Z",
     "start_time": "2019-05-29T13:19:52.068563Z"
    }
   },
   "outputs": [
    {
     "name": "stdout",
     "output_type": "stream",
     "text": [
      "Collecting jupyter_tensorboard\n",
      "Requirement already satisfied: notebook>=5.0 in c:\\dev\\workbench\\ve_jupyter_201906\\lib\\site-packages (from jupyter_tensorboard) (5.7.8)\n",
      "Requirement already satisfied: pyzmq>=17 in c:\\dev\\workbench\\ve_jupyter_201906\\lib\\site-packages (from notebook>=5.0->jupyter_tensorboard) (18.0.1)\n",
      "Requirement already satisfied: jinja2 in c:\\dev\\workbench\\ve_jupyter_201906\\lib\\site-packages (from notebook>=5.0->jupyter_tensorboard) (2.10.1)\n",
      "Requirement already satisfied: nbformat in c:\\dev\\workbench\\ve_jupyter_201906\\lib\\site-packages (from notebook>=5.0->jupyter_tensorboard) (4.4.0)\n",
      "Requirement already satisfied: terminado>=0.8.1 in c:\\dev\\workbench\\ve_jupyter_201906\\lib\\site-packages (from notebook>=5.0->jupyter_tensorboard) (0.8.2)\n",
      "Requirement already satisfied: prometheus-client in c:\\dev\\workbench\\ve_jupyter_201906\\lib\\site-packages (from notebook>=5.0->jupyter_tensorboard) (0.6.0)\n",
      "Requirement already satisfied: nbconvert in c:\\dev\\workbench\\ve_jupyter_201906\\lib\\site-packages (from notebook>=5.0->jupyter_tensorboard) (5.5.0)\n",
      "Requirement already satisfied: jupyter-core>=4.4.0 in c:\\dev\\workbench\\ve_jupyter_201906\\lib\\site-packages (from notebook>=5.0->jupyter_tensorboard) (4.4.0)\n",
      "Requirement already satisfied: ipython-genutils in c:\\dev\\workbench\\ve_jupyter_201906\\lib\\site-packages (from notebook>=5.0->jupyter_tensorboard) (0.2.0)\n",
      "Requirement already satisfied: tornado<7,>=4.1 in c:\\dev\\workbench\\ve_jupyter_201906\\lib\\site-packages (from notebook>=5.0->jupyter_tensorboard) (6.0.2)\n",
      "Requirement already satisfied: ipykernel in c:\\dev\\workbench\\ve_jupyter_201906\\lib\\site-packages (from notebook>=5.0->jupyter_tensorboard) (5.1.1)\n",
      "Requirement already satisfied: traitlets>=4.2.1 in c:\\dev\\workbench\\ve_jupyter_201906\\lib\\site-packages (from notebook>=5.0->jupyter_tensorboard) (4.3.2)\n",
      "Requirement already satisfied: Send2Trash in c:\\dev\\workbench\\ve_jupyter_201906\\lib\\site-packages (from notebook>=5.0->jupyter_tensorboard) (1.5.0)\n",
      "Requirement already satisfied: jupyter-client>=5.2.0 in c:\\dev\\workbench\\ve_jupyter_201906\\lib\\site-packages (from notebook>=5.0->jupyter_tensorboard) (5.2.4)\n",
      "Requirement already satisfied: MarkupSafe>=0.23 in c:\\dev\\workbench\\ve_jupyter_201906\\lib\\site-packages (from jinja2->notebook>=5.0->jupyter_tensorboard) (1.1.1)\n",
      "Requirement already satisfied: jsonschema!=2.5.0,>=2.4 in c:\\dev\\workbench\\ve_jupyter_201906\\lib\\site-packages (from nbformat->notebook>=5.0->jupyter_tensorboard) (3.0.1)\n",
      "Requirement already satisfied: pywinpty>=0.5; os_name == \"nt\" in c:\\dev\\workbench\\ve_jupyter_201906\\lib\\site-packages (from terminado>=0.8.1->notebook>=5.0->jupyter_tensorboard) (0.5.5)\n",
      "Requirement already satisfied: bleach in c:\\dev\\workbench\\ve_jupyter_201906\\lib\\site-packages (from nbconvert->notebook>=5.0->jupyter_tensorboard) (3.1.0)\n",
      "Requirement already satisfied: defusedxml in c:\\dev\\workbench\\ve_jupyter_201906\\lib\\site-packages (from nbconvert->notebook>=5.0->jupyter_tensorboard) (0.6.0)\n",
      "Requirement already satisfied: entrypoints>=0.2.2 in c:\\dev\\workbench\\ve_jupyter_201906\\lib\\site-packages (from nbconvert->notebook>=5.0->jupyter_tensorboard) (0.3)\n",
      "Requirement already satisfied: pandocfilters>=1.4.1 in c:\\dev\\workbench\\ve_jupyter_201906\\lib\\site-packages (from nbconvert->notebook>=5.0->jupyter_tensorboard) (1.4.2)\n",
      "Requirement already satisfied: testpath in c:\\dev\\workbench\\ve_jupyter_201906\\lib\\site-packages (from nbconvert->notebook>=5.0->jupyter_tensorboard) (0.4.2)\n",
      "Requirement already satisfied: pygments in c:\\dev\\workbench\\ve_jupyter_201906\\lib\\site-packages (from nbconvert->notebook>=5.0->jupyter_tensorboard) (2.4.1)\n",
      "Requirement already satisfied: mistune>=0.8.1 in c:\\dev\\workbench\\ve_jupyter_201906\\lib\\site-packages (from nbconvert->notebook>=5.0->jupyter_tensorboard) (0.8.4)\n",
      "Requirement already satisfied: ipython>=5.0.0 in c:\\dev\\workbench\\ve_jupyter_201906\\lib\\site-packages (from ipykernel->notebook>=5.0->jupyter_tensorboard) (7.5.0)\n",
      "Requirement already satisfied: six in c:\\dev\\workbench\\ve_jupyter_201906\\lib\\site-packages (from traitlets>=4.2.1->notebook>=5.0->jupyter_tensorboard) (1.12.0)\n",
      "Requirement already satisfied: decorator in c:\\dev\\workbench\\ve_jupyter_201906\\lib\\site-packages (from traitlets>=4.2.1->notebook>=5.0->jupyter_tensorboard) (4.4.0)\n",
      "Requirement already satisfied: python-dateutil>=2.1 in c:\\dev\\workbench\\ve_jupyter_201906\\lib\\site-packages (from jupyter-client>=5.2.0->notebook>=5.0->jupyter_tensorboard) (2.8.0)\n",
      "Requirement already satisfied: setuptools in c:\\dev\\workbench\\ve_jupyter_201906\\lib\\site-packages (from jsonschema!=2.5.0,>=2.4->nbformat->notebook>=5.0->jupyter_tensorboard) (41.0.1)\n",
      "Requirement already satisfied: attrs>=17.4.0 in c:\\dev\\workbench\\ve_jupyter_201906\\lib\\site-packages (from jsonschema!=2.5.0,>=2.4->nbformat->notebook>=5.0->jupyter_tensorboard) (19.1.0)\n",
      "Requirement already satisfied: pyrsistent>=0.14.0 in c:\\dev\\workbench\\ve_jupyter_201906\\lib\\site-packages (from jsonschema!=2.5.0,>=2.4->nbformat->notebook>=5.0->jupyter_tensorboard) (0.15.2)\n",
      "Requirement already satisfied: webencodings in c:\\dev\\workbench\\ve_jupyter_201906\\lib\\site-packages (from bleach->nbconvert->notebook>=5.0->jupyter_tensorboard) (0.5.1)\n",
      "Requirement already satisfied: jedi>=0.10 in c:\\dev\\workbench\\ve_jupyter_201906\\lib\\site-packages (from ipython>=5.0.0->ipykernel->notebook>=5.0->jupyter_tensorboard) (0.13.3)\n",
      "Requirement already satisfied: pickleshare in c:\\dev\\workbench\\ve_jupyter_201906\\lib\\site-packages (from ipython>=5.0.0->ipykernel->notebook>=5.0->jupyter_tensorboard) (0.7.5)\n",
      "Requirement already satisfied: prompt-toolkit<2.1.0,>=2.0.0 in c:\\dev\\workbench\\ve_jupyter_201906\\lib\\site-packages (from ipython>=5.0.0->ipykernel->notebook>=5.0->jupyter_tensorboard) (2.0.9)\n",
      "Requirement already satisfied: colorama; sys_platform == \"win32\" in c:\\dev\\workbench\\ve_jupyter_201906\\lib\\site-packages (from ipython>=5.0.0->ipykernel->notebook>=5.0->jupyter_tensorboard) (0.4.1)\n",
      "Requirement already satisfied: backcall in c:\\dev\\workbench\\ve_jupyter_201906\\lib\\site-packages (from ipython>=5.0.0->ipykernel->notebook>=5.0->jupyter_tensorboard) (0.1.0)\n",
      "Requirement already satisfied: parso>=0.3.0 in c:\\dev\\workbench\\ve_jupyter_201906\\lib\\site-packages (from jedi>=0.10->ipython>=5.0.0->ipykernel->notebook>=5.0->jupyter_tensorboard) (0.4.0)\n",
      "Requirement already satisfied: wcwidth in c:\\dev\\workbench\\ve_jupyter_201906\\lib\\site-packages (from prompt-toolkit<2.1.0,>=2.0.0->ipython>=5.0.0->ipykernel->notebook>=5.0->jupyter_tensorboard) (0.1.7)\n",
      "Installing collected packages: jupyter-tensorboard\n",
      "Successfully installed jupyter-tensorboard-0.1.10\n"
     ]
    }
   ],
   "source": [
    "!pip install jupyter_tensorboard"
   ]
  },
  {
   "cell_type": "code",
   "execution_count": 39,
   "metadata": {
    "ExecuteTime": {
     "end_time": "2019-05-29T13:19:56.098787Z",
     "start_time": "2019-05-29T13:19:54.671603Z"
    }
   },
   "outputs": [
    {
     "name": "stdout",
     "output_type": "stream",
     "text": [
      "jupyter-tensorboard==0.1.10\n",
      "  - notebook [required: >=5.0, installed: 5.7.8]\n",
      "    - ipykernel [required: Any, installed: 5.1.1]\n",
      "      - ipython [required: >=5.0.0, installed: 7.5.0]\n",
      "        - backcall [required: Any, installed: 0.1.0]\n",
      "        - colorama [required: Any, installed: 0.4.1]\n",
      "        - decorator [required: Any, installed: 4.4.0]\n",
      "        - jedi [required: >=0.10, installed: 0.13.3]\n",
      "          - parso [required: >=0.3.0, installed: 0.4.0]\n",
      "        - pickleshare [required: Any, installed: 0.7.5]\n",
      "        - prompt-toolkit [required: >=2.0.0,<2.1.0, installed: 2.0.9]\n",
      "          - six [required: >=1.9.0, installed: 1.12.0]\n",
      "          - wcwidth [required: Any, installed: 0.1.7]\n",
      "        - pygments [required: Any, installed: 2.4.1]\n",
      "        - setuptools [required: >=18.5, installed: 41.0.1]\n",
      "        - traitlets [required: >=4.2, installed: 4.3.2]\n",
      "          - decorator [required: Any, installed: 4.4.0]\n",
      "          - ipython-genutils [required: Any, installed: 0.2.0]\n",
      "          - six [required: Any, installed: 1.12.0]\n",
      "      - jupyter-client [required: Any, installed: 5.2.4]\n",
      "        - jupyter-core [required: Any, installed: 4.4.0]\n",
      "          - traitlets [required: Any, installed: 4.3.2]\n",
      "            - decorator [required: Any, installed: 4.4.0]\n",
      "            - ipython-genutils [required: Any, installed: 0.2.0]\n",
      "            - six [required: Any, installed: 1.12.0]\n",
      "        - python-dateutil [required: >=2.1, installed: 2.8.0]\n",
      "          - six [required: >=1.5, installed: 1.12.0]\n",
      "        - pyzmq [required: >=13, installed: 18.0.1]\n",
      "        - tornado [required: >=4.1, installed: 6.0.2]\n",
      "        - traitlets [required: Any, installed: 4.3.2]\n",
      "          - decorator [required: Any, installed: 4.4.0]\n",
      "          - ipython-genutils [required: Any, installed: 0.2.0]\n",
      "          - six [required: Any, installed: 1.12.0]\n",
      "      - tornado [required: >=4.2, installed: 6.0.2]\n",
      "      - traitlets [required: >=4.1.0, installed: 4.3.2]\n",
      "        - decorator [required: Any, installed: 4.4.0]\n",
      "        - ipython-genutils [required: Any, installed: 0.2.0]\n",
      "        - six [required: Any, installed: 1.12.0]\n",
      "    - ipython-genutils [required: Any, installed: 0.2.0]\n",
      "    - jinja2 [required: Any, installed: 2.10.1]\n",
      "      - MarkupSafe [required: >=0.23, installed: 1.1.1]\n",
      "    - jupyter-client [required: >=5.2.0, installed: 5.2.4]\n",
      "      - jupyter-core [required: Any, installed: 4.4.0]\n",
      "        - traitlets [required: Any, installed: 4.3.2]\n",
      "          - decorator [required: Any, installed: 4.4.0]\n",
      "          - ipython-genutils [required: Any, installed: 0.2.0]\n",
      "          - six [required: Any, installed: 1.12.0]\n",
      "      - python-dateutil [required: >=2.1, installed: 2.8.0]\n",
      "        - six [required: >=1.5, installed: 1.12.0]\n",
      "      - pyzmq [required: >=13, installed: 18.0.1]\n",
      "      - tornado [required: >=4.1, installed: 6.0.2]\n",
      "      - traitlets [required: Any, installed: 4.3.2]\n",
      "        - decorator [required: Any, installed: 4.4.0]\n",
      "        - ipython-genutils [required: Any, installed: 0.2.0]\n",
      "        - six [required: Any, installed: 1.12.0]\n",
      "    - jupyter-core [required: >=4.4.0, installed: 4.4.0]\n",
      "      - traitlets [required: Any, installed: 4.3.2]\n",
      "        - decorator [required: Any, installed: 4.4.0]\n",
      "        - ipython-genutils [required: Any, installed: 0.2.0]\n",
      "        - six [required: Any, installed: 1.12.0]\n",
      "    - nbconvert [required: Any, installed: 5.5.0]\n",
      "      - bleach [required: Any, installed: 3.1.0]\n",
      "        - six [required: >=1.9.0, installed: 1.12.0]\n",
      "        - webencodings [required: Any, installed: 0.5.1]\n",
      "      - defusedxml [required: Any, installed: 0.6.0]\n",
      "      - entrypoints [required: >=0.2.2, installed: 0.3]\n",
      "      - jinja2 [required: >=2.4, installed: 2.10.1]\n",
      "        - MarkupSafe [required: >=0.23, installed: 1.1.1]\n",
      "      - jupyter-core [required: Any, installed: 4.4.0]\n",
      "        - traitlets [required: Any, installed: 4.3.2]\n",
      "          - decorator [required: Any, installed: 4.4.0]\n",
      "          - ipython-genutils [required: Any, installed: 0.2.0]\n",
      "          - six [required: Any, installed: 1.12.0]\n",
      "      - mistune [required: >=0.8.1, installed: 0.8.4]\n",
      "      - nbformat [required: >=4.4, installed: 4.4.0]\n",
      "        - ipython-genutils [required: Any, installed: 0.2.0]\n",
      "        - jsonschema [required: >=2.4,!=2.5.0, installed: 3.0.1]\n",
      "          - attrs [required: >=17.4.0, installed: 19.1.0]\n",
      "          - pyrsistent [required: >=0.14.0, installed: 0.15.2]\n",
      "            - six [required: Any, installed: 1.12.0]\n",
      "          - setuptools [required: Any, installed: 41.0.1]\n",
      "          - six [required: >=1.11.0, installed: 1.12.0]\n",
      "        - jupyter-core [required: Any, installed: 4.4.0]\n",
      "          - traitlets [required: Any, installed: 4.3.2]\n",
      "            - decorator [required: Any, installed: 4.4.0]\n",
      "            - ipython-genutils [required: Any, installed: 0.2.0]\n",
      "            - six [required: Any, installed: 1.12.0]\n",
      "        - traitlets [required: >=4.1, installed: 4.3.2]\n",
      "          - decorator [required: Any, installed: 4.4.0]\n",
      "          - ipython-genutils [required: Any, installed: 0.2.0]\n",
      "          - six [required: Any, installed: 1.12.0]\n",
      "      - pandocfilters [required: >=1.4.1, installed: 1.4.2]\n",
      "      - pygments [required: Any, installed: 2.4.1]\n",
      "      - testpath [required: Any, installed: 0.4.2]\n",
      "      - traitlets [required: >=4.2, installed: 4.3.2]\n",
      "        - decorator [required: Any, installed: 4.4.0]\n",
      "        - ipython-genutils [required: Any, installed: 0.2.0]\n",
      "        - six [required: Any, installed: 1.12.0]\n",
      "    - nbformat [required: Any, installed: 4.4.0]\n",
      "      - ipython-genutils [required: Any, installed: 0.2.0]\n",
      "      - jsonschema [required: >=2.4,!=2.5.0, installed: 3.0.1]\n",
      "        - attrs [required: >=17.4.0, installed: 19.1.0]\n",
      "        - pyrsistent [required: >=0.14.0, installed: 0.15.2]\n",
      "          - six [required: Any, installed: 1.12.0]\n",
      "        - setuptools [required: Any, installed: 41.0.1]\n",
      "        - six [required: >=1.11.0, installed: 1.12.0]\n",
      "      - jupyter-core [required: Any, installed: 4.4.0]\n",
      "        - traitlets [required: Any, installed: 4.3.2]\n",
      "          - decorator [required: Any, installed: 4.4.0]\n",
      "          - ipython-genutils [required: Any, installed: 0.2.0]\n",
      "          - six [required: Any, installed: 1.12.0]\n",
      "      - traitlets [required: >=4.1, installed: 4.3.2]\n",
      "        - decorator [required: Any, installed: 4.4.0]\n",
      "        - ipython-genutils [required: Any, installed: 0.2.0]\n",
      "        - six [required: Any, installed: 1.12.0]\n",
      "    - prometheus-client [required: Any, installed: 0.6.0]\n",
      "    - pyzmq [required: >=17, installed: 18.0.1]\n",
      "    - Send2Trash [required: Any, installed: 1.5.0]\n",
      "    - terminado [required: >=0.8.1, installed: 0.8.2]\n",
      "      - pywinpty [required: >=0.5, installed: 0.5.5]\n",
      "      - tornado [required: >=4, installed: 6.0.2]\n",
      "    - tornado [required: >=4.1,<7, installed: 6.0.2]\n",
      "    - traitlets [required: >=4.2.1, installed: 4.3.2]\n",
      "      - decorator [required: Any, installed: 4.4.0]\n",
      "      - ipython-genutils [required: Any, installed: 0.2.0]\n",
      "      - six [required: Any, installed: 1.12.0]\n"
     ]
    }
   ],
   "source": [
    "!python -m pipdeptree -p jupyter-tensorboard"
   ]
  },
  {
   "cell_type": "code",
   "execution_count": 40,
   "metadata": {
    "ExecuteTime": {
     "end_time": "2019-05-29T13:19:57.481112Z",
     "start_time": "2019-05-29T13:19:56.101781Z"
    },
    "run_control": {
     "marked": false
    },
    "scrolled": false
   },
   "outputs": [
    {
     "name": "stdout",
     "output_type": "stream",
     "text": [
      "statsmodels==0.9.0\n"
     ]
    }
   ],
   "source": [
    "!python -m pipdeptree -p statsmodels"
   ]
  },
  {
   "cell_type": "code",
   "execution_count": 41,
   "metadata": {
    "ExecuteTime": {
     "end_time": "2019-05-29T13:19:58.851431Z",
     "start_time": "2019-05-29T13:19:57.483089Z"
    },
    "run_control": {
     "marked": false
    }
   },
   "outputs": [
    {
     "name": "stdout",
     "output_type": "stream",
     "text": [
      "numpy==1.16.3\n"
     ]
    }
   ],
   "source": [
    "!python -m pipdeptree -p numpy"
   ]
  },
  {
   "cell_type": "code",
   "execution_count": 42,
   "metadata": {
    "ExecuteTime": {
     "end_time": "2019-05-29T13:19:58.897304Z",
     "start_time": "2019-05-29T13:19:58.853425Z"
    },
    "scrolled": true
   },
   "outputs": [
    {
     "name": "stdout",
     "output_type": "stream",
     "text": [
      "/c/dev/workbench/notebook/Python/src/DeepLearning\n"
     ]
    }
   ],
   "source": [
    "%%bash\n",
    "pwd\n",
    "#ls -l\n",
    "#ipconfig"
   ]
  },
  {
   "cell_type": "code",
   "execution_count": 43,
   "metadata": {
    "ExecuteTime": {
     "end_time": "2019-05-29T13:20:00.433201Z",
     "start_time": "2019-05-29T13:19:58.899300Z"
    }
   },
   "outputs": [
    {
     "name": "stdout",
     "output_type": "stream",
     "text": [
      "absl-py==0.7.1\n",
      "astor==0.8.0\n",
      "attrs==19.1.0\n",
      "backcall==0.1.0\n",
      "bleach==3.1.0\n",
      "blpapi==3.9.2\n",
      "bokeh==1.1.0\n",
      "bqplot==0.11.5\n",
      "certifi==2019.3.9\n",
      "chardet==3.0.4\n",
      "colorama==0.4.1\n",
      "colorlover==0.3.0\n",
      "cufflinks==0.15\n",
      "cycler==0.10.0\n",
      "decorator==4.4.0\n",
      "defusedxml==0.6.0\n",
      "entrypoints==0.3\n",
      "et-xmlfile==1.0.1\n",
      "gast==0.2.2\n",
      "grpcio==1.21.1\n",
      "h5py==2.9.0\n",
      "holoviews==1.12.3\n",
      "idna==2.8\n",
      "ipykernel==5.1.1\n",
      "ipython==7.5.0\n",
      "ipython-genutils==0.2.0\n",
      "ipywidgets==7.4.2\n",
      "jdcal==1.4.1\n",
      "jedi==0.13.3\n",
      "Jinja2==2.10.1\n",
      "joblib==0.13.2\n",
      "jsonschema==3.0.1\n",
      "jupyter==1.0.0\n",
      "jupyter-client==5.2.4\n",
      "jupyter-console==6.0.0\n",
      "jupyter-contrib-core==0.3.3\n",
      "jupyter-contrib-nbextensions==0.5.1\n",
      "jupyter-core==4.4.0\n",
      "jupyter-highlight-selected-word==0.2.0\n",
      "jupyter-latex-envs==1.4.6\n",
      "jupyter-nbextensions-configurator==0.4.1\n",
      "jupyter-tensorboard==0.1.10\n",
      "jupyterlab==0.35.6\n",
      "jupyterlab-server==0.2.0\n",
      "Keras==2.2.4\n",
      "Keras-Applications==1.0.7\n",
      "Keras-Preprocessing==1.0.9\n",
      "kiwisolver==1.1.0\n",
      "lxml==4.3.3\n",
      "Markdown==3.1.1\n",
      "MarkupSafe==1.1.1\n",
      "matplotlib==3.1.0\n",
      "mistune==0.8.4\n",
      "mnist==0.2.2\n",
      "mock==3.0.5\n",
      "nbconvert==5.5.0\n",
      "nbformat==4.4.0\n",
      "notebook==5.7.8\n",
      "numpy==1.16.3\n",
      "openpyxl==2.6.2\n",
      "packaging==19.0\n",
      "pandas==0.24.2\n",
      "pandocfilters==1.4.2\n",
      "param==1.9.0\n",
      "parso==0.4.0\n",
      "pdblp==0.1.8\n",
      "pickleshare==0.7.5\n",
      "Pillow==6.0.0\n",
      "pipdeptree==0.13.2\n",
      "plotly==3.9.0\n",
      "prometheus-client==0.6.0\n",
      "prompt-toolkit==2.0.9\n",
      "protobuf==3.7.1\n",
      "Pygments==2.4.1\n",
      "pymssql==2.1.4\n",
      "pyodbc==4.0.26\n",
      "pyparsing==2.4.0\n",
      "pyrsistent==0.15.2\n",
      "python-dateutil==2.8.0\n",
      "pytz==2019.1\n",
      "pyviz-comms==0.7.2\n",
      "pywinpty==0.5.5\n",
      "PyYAML==5.1\n",
      "pyzmq==18.0.1\n",
      "qtconsole==4.5.0\n",
      "requests==2.22.0\n",
      "retrying==1.3.3\n",
      "scikit-learn==0.21.2\n",
      "scipy==1.3.0\n",
      "seaborn==0.9.0\n",
      "Send2Trash==1.5.0\n",
      "six==1.12.0\n",
      "statsmodels==0.9.0\n",
      "tensorboard==1.13.1\n",
      "tensorflow==1.13.1\n",
      "tensorflow-estimator==1.13.0\n",
      "termcolor==1.1.0\n",
      "terminado==0.8.2\n",
      "testpath==0.4.2\n",
      "tornado==6.0.2\n",
      "tqdm==4.32.1\n",
      "traitlets==4.3.2\n",
      "traittypes==0.2.1\n",
      "urllib3==1.25.3\n",
      "wcwidth==0.1.7\n",
      "webencodings==0.5.1\n",
      "Werkzeug==0.15.4\n",
      "widgetsnbextension==3.4.2\n",
      "xlrd==1.2.0\n"
     ]
    }
   ],
   "source": [
    "!pip freeze >_package_freeze_ike4.txt\n",
    "#!pip freeze >_package_freeze_mums.txt\n",
    "!pip freeze"
   ]
  },
  {
   "cell_type": "code",
   "execution_count": 49,
   "metadata": {
    "ExecuteTime": {
     "end_time": "2019-05-29T13:24:18.354225Z",
     "start_time": "2019-05-29T13:24:17.560351Z"
    },
    "run_control": {
     "marked": false
    },
    "scrolled": true
   },
   "outputs": [],
   "source": [
    "!pip list > _package_list_ike4.txt\n",
    "#!pip list > _package_list_mums.txt\n",
    "#!pip list"
   ]
  },
  {
   "cell_type": "code",
   "execution_count": 48,
   "metadata": {
    "ExecuteTime": {
     "end_time": "2019-05-29T13:24:03.171819Z",
     "start_time": "2019-05-29T13:23:49.782616Z"
    }
   },
   "outputs": [
    {
     "name": "stdout",
     "output_type": "stream",
     "text": [
      "Package           Version Latest Type \n",
      "----------------- ------- ------ -----\n",
      "bokeh             1.1.0   1.2.0  sdist\n",
      "jupyterlab-server 0.2.0   0.3.0  wheel\n",
      "numpy             1.16.3  1.16.4 wheel\n",
      "protobuf          3.7.1   3.8.0  wheel\n",
      "Pygments          2.4.1   2.4.2  wheel\n",
      "qtconsole         4.5.0   4.5.1  wheel\n"
     ]
    }
   ],
   "source": [
    "#!pip list -o > _package_update_ike4.txt\n",
    "!pip list -o"
   ]
  },
  {
   "cell_type": "code",
   "execution_count": 46,
   "metadata": {
    "ExecuteTime": {
     "end_time": "2019-05-29T13:20:01.213137Z",
     "start_time": "2019-05-29T13:20:01.204140Z"
    }
   },
   "outputs": [],
   "source": [
    "#wheelhouse='m:/eq.trd/Development/wheelhouse_201901'\n",
    "#wheelhouse='m:/eq.trd/Development/wheelhouse_201904'\n",
    "#wheelhouse='c:/dev/workbench/wheelhouse_201904'\n",
    "\n",
    "#!pip --no-cache-dir install --ignore-installed --no-index --upgrade --find-links=$wheelhouse pipdeptree==0.13.1\n",
    "#!pip --no-cache-dir install --ignore-installed --no-index --upgrade --find-links=$wheelhouse plotly==3.8.1"
   ]
  }
 ],
 "metadata": {
  "anaconda-cloud": {},
  "hide_input": false,
  "kernelspec": {
   "display_name": "Python 3",
   "language": "python",
   "name": "python3"
  },
  "language_info": {
   "codemirror_mode": {
    "name": "ipython",
    "version": 3
   },
   "file_extension": ".py",
   "mimetype": "text/x-python",
   "name": "python",
   "nbconvert_exporter": "python",
   "pygments_lexer": "ipython3",
   "version": "3.6.6"
  },
  "nbTranslate": {
   "displayLangs": [
    "ja"
   ],
   "hotkey": "alt-t",
   "langInMainMenu": true,
   "sourceLang": "en",
   "targetLang": "ja",
   "useGoogleTranslate": true
  },
  "toc": {
   "base_numbering": 1,
   "nav_menu": {},
   "number_sections": true,
   "sideBar": true,
   "skip_h1_title": false,
   "title_cell": "Table of Contents",
   "title_sidebar": "Contents",
   "toc_cell": false,
   "toc_position": {},
   "toc_section_display": true,
   "toc_window_display": false
  },
  "varInspector": {
   "cols": {
    "lenName": 16,
    "lenType": 16,
    "lenVar": 40
   },
   "kernels_config": {
    "python": {
     "delete_cmd_postfix": "",
     "delete_cmd_prefix": "del ",
     "library": "var_list.py",
     "varRefreshCmd": "print(var_dic_list())"
    },
    "r": {
     "delete_cmd_postfix": ") ",
     "delete_cmd_prefix": "rm(",
     "library": "var_list.r",
     "varRefreshCmd": "cat(var_dic_list()) "
    }
   },
   "types_to_exclude": [
    "module",
    "function",
    "builtin_function_or_method",
    "instance",
    "_Feature"
   ],
   "window_display": false
  }
 },
 "nbformat": 4,
 "nbformat_minor": 2
}
